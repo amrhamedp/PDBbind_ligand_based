{
 "cells": [
  {
   "cell_type": "markdown",
   "metadata": {},
   "source": [
    "<h1>ChEMBL</h1>"
   ]
  },
  {
   "cell_type": "code",
   "execution_count": 1,
   "metadata": {
    "collapsed": true
   },
   "outputs": [],
   "source": [
    "import os\n",
    "import seaborn\n",
    "import requests\n",
    "import numpy as np\n",
    "import pandas as pd\n",
    "from matplotlib import pyplot as plt\n",
    "\n",
    "%matplotlib inline\n",
    "\n",
    "import ChEMBL as chembl"
   ]
  },
  {
   "cell_type": "markdown",
   "metadata": {},
   "source": [
    "<h2>Loading pdbbind core-set information</h2>"
   ]
  },
  {
   "cell_type": "markdown",
   "metadata": {},
   "source": [
    "<h4>Cluster id</h4>"
   ]
  },
  {
   "cell_type": "code",
   "execution_count": 2,
   "metadata": {},
   "outputs": [
    {
     "data": {
      "text/html": [
       "<div>\n",
       "<style>\n",
       "    .dataframe thead tr:only-child th {\n",
       "        text-align: right;\n",
       "    }\n",
       "\n",
       "    .dataframe thead th {\n",
       "        text-align: left;\n",
       "    }\n",
       "\n",
       "    .dataframe tbody tr th {\n",
       "        vertical-align: top;\n",
       "    }\n",
       "</style>\n",
       "<table border=\"1\" class=\"dataframe\">\n",
       "  <thead>\n",
       "    <tr style=\"text-align: right;\">\n",
       "      <th></th>\n",
       "      <th>pdb_id</th>\n",
       "      <th>cluster_id</th>\n",
       "    </tr>\n",
       "  </thead>\n",
       "  <tbody>\n",
       "    <tr>\n",
       "      <th>0</th>\n",
       "      <td>1ps3</td>\n",
       "      <td>3</td>\n",
       "    </tr>\n",
       "    <tr>\n",
       "      <th>1</th>\n",
       "      <td>3dx1</td>\n",
       "      <td>3</td>\n",
       "    </tr>\n",
       "    <tr>\n",
       "      <th>2</th>\n",
       "      <td>3d4z</td>\n",
       "      <td>3</td>\n",
       "    </tr>\n",
       "    <tr>\n",
       "      <th>3</th>\n",
       "      <td>3dx2</td>\n",
       "      <td>3</td>\n",
       "    </tr>\n",
       "    <tr>\n",
       "      <th>4</th>\n",
       "      <td>3ejr</td>\n",
       "      <td>3</td>\n",
       "    </tr>\n",
       "  </tbody>\n",
       "</table>\n",
       "</div>"
      ],
      "text/plain": [
       "  pdb_id  cluster_id\n",
       "0   1ps3           3\n",
       "1   3dx1           3\n",
       "2   3d4z           3\n",
       "3   3dx2           3\n",
       "4   3ejr           3"
      ]
     },
     "execution_count": 2,
     "metadata": {},
     "output_type": "execute_result"
    }
   ],
   "source": [
    "f = './refined-set/index/INDEX_core_cluster.2016'\n",
    "clusters = pd.read_csv(f, sep='\\s+', usecols=[0, 5], \n",
    "                       names=['pdb_id', 'cluster_id'], comment='#')\n",
    "clusters.head()"
   ]
  },
  {
   "cell_type": "markdown",
   "metadata": {},
   "source": [
    "<h4>Uniprot id</h4>"
   ]
  },
  {
   "cell_type": "code",
   "execution_count": 3,
   "metadata": {},
   "outputs": [
    {
     "data": {
      "text/html": [
       "<div>\n",
       "<style>\n",
       "    .dataframe thead tr:only-child th {\n",
       "        text-align: right;\n",
       "    }\n",
       "\n",
       "    .dataframe thead th {\n",
       "        text-align: left;\n",
       "    }\n",
       "\n",
       "    .dataframe tbody tr th {\n",
       "        vertical-align: top;\n",
       "    }\n",
       "</style>\n",
       "<table border=\"1\" class=\"dataframe\">\n",
       "  <thead>\n",
       "    <tr style=\"text-align: right;\">\n",
       "      <th></th>\n",
       "      <th>pdb_id</th>\n",
       "      <th>uniprot_id</th>\n",
       "    </tr>\n",
       "  </thead>\n",
       "  <tbody>\n",
       "    <tr>\n",
       "      <th>0</th>\n",
       "      <td>3eql</td>\n",
       "      <td>Q9Z9H6</td>\n",
       "    </tr>\n",
       "    <tr>\n",
       "      <th>1</th>\n",
       "      <td>1zyr</td>\n",
       "      <td>Q5SHR6</td>\n",
       "    </tr>\n",
       "    <tr>\n",
       "      <th>2</th>\n",
       "      <td>3dxj</td>\n",
       "      <td>Q5SHR6</td>\n",
       "    </tr>\n",
       "    <tr>\n",
       "      <th>3</th>\n",
       "      <td>4zh4</td>\n",
       "      <td>P0A7Z4</td>\n",
       "    </tr>\n",
       "    <tr>\n",
       "      <th>4</th>\n",
       "      <td>4zh3</td>\n",
       "      <td>P0A7Z4</td>\n",
       "    </tr>\n",
       "  </tbody>\n",
       "</table>\n",
       "</div>"
      ],
      "text/plain": [
       "  pdb_id uniprot_id\n",
       "0   3eql     Q9Z9H6\n",
       "1   1zyr     Q5SHR6\n",
       "2   3dxj     Q5SHR6\n",
       "3   4zh4     P0A7Z4\n",
       "4   4zh3     P0A7Z4"
      ]
     },
     "execution_count": 3,
     "metadata": {},
     "output_type": "execute_result"
    }
   ],
   "source": [
    "f = './refined-set/index/INDEX_general_PL_name.2016'\n",
    "uniprot = pd.read_csv(f, sep='\\s+', usecols=[0, 2], \n",
    "                      names=['pdb_id', 'uniprot_id'], comment='#')\n",
    "uniprot.head()"
   ]
  },
  {
   "cell_type": "markdown",
   "metadata": {},
   "source": [
    "<h4>Merge</h4>"
   ]
  },
  {
   "cell_type": "code",
   "execution_count": 4,
   "metadata": {},
   "outputs": [
    {
     "data": {
      "text/html": [
       "<div>\n",
       "<style>\n",
       "    .dataframe thead tr:only-child th {\n",
       "        text-align: right;\n",
       "    }\n",
       "\n",
       "    .dataframe thead th {\n",
       "        text-align: left;\n",
       "    }\n",
       "\n",
       "    .dataframe tbody tr th {\n",
       "        vertical-align: top;\n",
       "    }\n",
       "</style>\n",
       "<table border=\"1\" class=\"dataframe\">\n",
       "  <thead>\n",
       "    <tr style=\"text-align: right;\">\n",
       "      <th></th>\n",
       "      <th>pdb_id</th>\n",
       "      <th>cluster_id</th>\n",
       "      <th>uniprot_id</th>\n",
       "    </tr>\n",
       "  </thead>\n",
       "  <tbody>\n",
       "    <tr>\n",
       "      <th>0</th>\n",
       "      <td>1ps3</td>\n",
       "      <td>3</td>\n",
       "      <td>Q24451</td>\n",
       "    </tr>\n",
       "    <tr>\n",
       "      <th>1</th>\n",
       "      <td>3dx1</td>\n",
       "      <td>3</td>\n",
       "      <td>Q24451</td>\n",
       "    </tr>\n",
       "    <tr>\n",
       "      <th>2</th>\n",
       "      <td>3d4z</td>\n",
       "      <td>3</td>\n",
       "      <td>Q24451</td>\n",
       "    </tr>\n",
       "    <tr>\n",
       "      <th>3</th>\n",
       "      <td>3dx2</td>\n",
       "      <td>3</td>\n",
       "      <td>Q24451</td>\n",
       "    </tr>\n",
       "    <tr>\n",
       "      <th>4</th>\n",
       "      <td>3ejr</td>\n",
       "      <td>3</td>\n",
       "      <td>Q24451</td>\n",
       "    </tr>\n",
       "  </tbody>\n",
       "</table>\n",
       "</div>"
      ],
      "text/plain": [
       "  pdb_id  cluster_id uniprot_id\n",
       "0   1ps3           3     Q24451\n",
       "1   3dx1           3     Q24451\n",
       "2   3d4z           3     Q24451\n",
       "3   3dx2           3     Q24451\n",
       "4   3ejr           3     Q24451"
      ]
     },
     "execution_count": 4,
     "metadata": {},
     "output_type": "execute_result"
    }
   ],
   "source": [
    "data_pdb = clusters.merge(uniprot, on='pdb_id')\n",
    "data_pdb.to_csv('pdbbind_data', index=False)\n",
    "data_pdb.head()"
   ]
  },
  {
   "cell_type": "markdown",
   "metadata": {},
   "source": [
    "<h3>Number of targets in cluster</h3>"
   ]
  },
  {
   "cell_type": "code",
   "execution_count": 5,
   "metadata": {},
   "outputs": [
    {
     "data": {
      "text/plain": [
       "array([[<matplotlib.axes._subplots.AxesSubplot object at 0x7f1d43d02da0>]], dtype=object)"
      ]
     },
     "execution_count": 5,
     "metadata": {},
     "output_type": "execute_result"
    },
    {
     "data": {
      "image/png": "[encoded data removed]",
      "text/plain": [
       "<matplotlib.figure.Figure at 0x7f1d43d028d0>"
      ]
     },
     "metadata": {},
     "output_type": "display_data"
    }
   ],
   "source": [
    "num_uni = []\n",
    "for cluster_id in set(data_pdb['cluster_id'].tolist()):\n",
    "    num_uni.append(len(set(data_pdb[data_pdb['cluster_id'] == cluster_id]['uniprot_id'])))\n",
    "pd.DataFrame({'num_of_uniprot_id': num_uni}).hist(figsize=(10, 5))"
   ]
  },
  {
   "cell_type": "markdown",
   "metadata": {},
   "source": [
    "<h2>Prepare data</h2>"
   ]
  },
  {
   "cell_type": "markdown",
   "metadata": {},
   "source": [
    "<h4>For every pdb ID create dataframes contain bioactivities information</h4>"
   ]
  },
  {
   "cell_type": "code",
   "execution_count": 6,
   "metadata": {
    "collapsed": true
   },
   "outputs": [],
   "source": [
    "directory = './all/'"
   ]
  },
  {
   "cell_type": "code",
   "execution_count": 7,
   "metadata": {
    "collapsed": true
   },
   "outputs": [],
   "source": [
    "uniprot_ids = set(data_pdb['uniprot_id'].tolist())"
   ]
  },
  {
   "cell_type": "code",
   "execution_count": 8,
   "metadata": {
    "collapsed": true,
    "scrolled": true
   },
   "outputs": [],
   "source": [
    "chembl.create_data_frames(set(data_pdb['uniprot_id'].tolist()), directory=directory) #overwrite=True "
   ]
  },
  {
   "cell_type": "markdown",
   "metadata": {},
   "source": [
    "Example file:"
   ]
  },
  {
   "cell_type": "code",
   "execution_count": 9,
   "metadata": {},
   "outputs": [
    {
     "data": {
      "text/html": [
       "<div>\n",
       "<style>\n",
       "    .dataframe thead tr:only-child th {\n",
       "        text-align: right;\n",
       "    }\n",
       "\n",
       "    .dataframe thead th {\n",
       "        text-align: left;\n",
       "    }\n",
       "\n",
       "    .dataframe tbody tr th {\n",
       "        vertical-align: top;\n",
       "    }\n",
       "</style>\n",
       "<table border=\"1\" class=\"dataframe\">\n",
       "  <thead>\n",
       "    <tr style=\"text-align: right;\">\n",
       "      <th></th>\n",
       "      <th>uniprot_id</th>\n",
       "      <th>chembl_id</th>\n",
       "      <th>smiles</th>\n",
       "      <th>bioactivity_type</th>\n",
       "      <th>operator</th>\n",
       "      <th>value</th>\n",
       "      <th>units</th>\n",
       "    </tr>\n",
       "  </thead>\n",
       "  <tbody>\n",
       "    <tr>\n",
       "      <th>0</th>\n",
       "      <td>A9JQL9</td>\n",
       "      <td>CHEMBL525377</td>\n",
       "      <td>Cc1ccc(cc1)c2ccc(CCCN(O)C(=O)CP(=O)(O)O)cc2</td>\n",
       "      <td>Ki</td>\n",
       "      <td>&gt;</td>\n",
       "      <td>7000.0</td>\n",
       "      <td>nM</td>\n",
       "    </tr>\n",
       "    <tr>\n",
       "      <th>1</th>\n",
       "      <td>A9JQL9</td>\n",
       "      <td>CHEMBL495807</td>\n",
       "      <td>CC(=O)NP(=O)(O)OCCCc1cccc(Oc2ccccc2)c1</td>\n",
       "      <td>IC50</td>\n",
       "      <td>=</td>\n",
       "      <td>8.0</td>\n",
       "      <td>nM</td>\n",
       "    </tr>\n",
       "    <tr>\n",
       "      <th>2</th>\n",
       "      <td>A9JQL9</td>\n",
       "      <td>CHEMBL497815</td>\n",
       "      <td>OP(=O)(O)CC(=O)NCCCc1ccc(cc1)c2ccccc2</td>\n",
       "      <td>Ki</td>\n",
       "      <td>=</td>\n",
       "      <td>810.0</td>\n",
       "      <td>nM</td>\n",
       "    </tr>\n",
       "    <tr>\n",
       "      <th>3</th>\n",
       "      <td>A9JQL9</td>\n",
       "      <td>CHEMBL561057</td>\n",
       "      <td>CC(=CCC\\C(=C\\CNCCNC1C2CC3CC(CC1C3)C2)\\C)C</td>\n",
       "      <td>IC50</td>\n",
       "      <td>=</td>\n",
       "      <td>100000.0</td>\n",
       "      <td>nM</td>\n",
       "    </tr>\n",
       "    <tr>\n",
       "      <th>4</th>\n",
       "      <td>A9JQL9</td>\n",
       "      <td>CHEMBL561057</td>\n",
       "      <td>CC(=CCC\\C(=C\\CNCCNC1C2CC3CC(CC1C3)C2)\\C)C</td>\n",
       "      <td>Ki</td>\n",
       "      <td>=</td>\n",
       "      <td>360.0</td>\n",
       "      <td>nM</td>\n",
       "    </tr>\n",
       "  </tbody>\n",
       "</table>\n",
       "</div>"
      ],
      "text/plain": [
       "  uniprot_id     chembl_id                                       smiles  \\\n",
       "0     A9JQL9  CHEMBL525377  Cc1ccc(cc1)c2ccc(CCCN(O)C(=O)CP(=O)(O)O)cc2   \n",
       "1     A9JQL9  CHEMBL495807       CC(=O)NP(=O)(O)OCCCc1cccc(Oc2ccccc2)c1   \n",
       "2     A9JQL9  CHEMBL497815        OP(=O)(O)CC(=O)NCCCc1ccc(cc1)c2ccccc2   \n",
       "3     A9JQL9  CHEMBL561057    CC(=CCC\\C(=C\\CNCCNC1C2CC3CC(CC1C3)C2)\\C)C   \n",
       "4     A9JQL9  CHEMBL561057    CC(=CCC\\C(=C\\CNCCNC1C2CC3CC(CC1C3)C2)\\C)C   \n",
       "\n",
       "  bioactivity_type operator     value units  \n",
       "0               Ki        >    7000.0    nM  \n",
       "1             IC50        =       8.0    nM  \n",
       "2               Ki        =     810.0    nM  \n",
       "3             IC50        =  100000.0    nM  \n",
       "4               Ki        =     360.0    nM  "
      ]
     },
     "execution_count": 9,
     "metadata": {},
     "output_type": "execute_result"
    }
   ],
   "source": [
    "pd.read_csv('./all/uniprot/chembl_A9JQL9.csv').head()"
   ]
  },
  {
   "cell_type": "markdown",
   "metadata": {},
   "source": [
    "<h2>Analysis:</h2> <h3>Frequency of bioactivity type</h3>"
   ]
  },
  {
   "cell_type": "code",
   "execution_count": 10,
   "metadata": {
    "collapsed": true
   },
   "outputs": [],
   "source": [
    "all_bioact = chembl.find_all_type_of_bioact(uniprot_ids, directory)\n",
    "frequency_bioact = {}\n",
    "for bioact in all_bioact:\n",
    "    frequency_bioact[bioact] = 0\n",
    "\n",
    "for uniprot_id in uniprot_ids:\n",
    "    \n",
    "    f = os.path.join(directory, 'uniprot', 'chembl_%s.csv' % uniprot_id)\n",
    "    data = pd.read_csv(f)\n",
    "    for bioact in all_bioact:\n",
    "        \n",
    "        frequency_bioact[bioact] += (data['bioactivity_type'] == bioact).any()\n",
    "        \n",
    "for bioact in all_bioact:\n",
    "    frequency_bioact[bioact] /= len(uniprot_ids)\n",
    "\n",
    "frequency_bioact = pd.DataFrame(frequency_bioact, index=['%']).T"
   ]
  },
  {
   "cell_type": "code",
   "execution_count": 11,
   "metadata": {},
   "outputs": [
    {
     "data": {
      "text/html": [
       "<div>\n",
       "<style>\n",
       "    .dataframe thead tr:only-child th {\n",
       "        text-align: right;\n",
       "    }\n",
       "\n",
       "    .dataframe thead th {\n",
       "        text-align: left;\n",
       "    }\n",
       "\n",
       "    .dataframe tbody tr th {\n",
       "        vertical-align: top;\n",
       "    }\n",
       "</style>\n",
       "<table border=\"1\" class=\"dataframe\">\n",
       "  <thead>\n",
       "    <tr style=\"text-align: right;\">\n",
       "      <th></th>\n",
       "      <th>%</th>\n",
       "    </tr>\n",
       "  </thead>\n",
       "  <tbody>\n",
       "    <tr>\n",
       "      <th>IC50</th>\n",
       "      <td>0.705882</td>\n",
       "    </tr>\n",
       "    <tr>\n",
       "      <th>Ki</th>\n",
       "      <td>0.588235</td>\n",
       "    </tr>\n",
       "    <tr>\n",
       "      <th>Inhibition</th>\n",
       "      <td>0.588235</td>\n",
       "    </tr>\n",
       "    <tr>\n",
       "      <th>Kd</th>\n",
       "      <td>0.529412</td>\n",
       "    </tr>\n",
       "    <tr>\n",
       "      <th>Activity</th>\n",
       "      <td>0.514706</td>\n",
       "    </tr>\n",
       "    <tr>\n",
       "      <th>EC50</th>\n",
       "      <td>0.294118</td>\n",
       "    </tr>\n",
       "    <tr>\n",
       "      <th>Ratio</th>\n",
       "      <td>0.279412</td>\n",
       "    </tr>\n",
       "    <tr>\n",
       "      <th>Ratio IC50</th>\n",
       "      <td>0.264706</td>\n",
       "    </tr>\n",
       "    <tr>\n",
       "      <th>Km</th>\n",
       "      <td>0.250000</td>\n",
       "    </tr>\n",
       "    <tr>\n",
       "      <th>Selectivity</th>\n",
       "      <td>0.191176</td>\n",
       "    </tr>\n",
       "  </tbody>\n",
       "</table>\n",
       "</div>"
      ],
      "text/plain": [
       "                    %\n",
       "IC50         0.705882\n",
       "Ki           0.588235\n",
       "Inhibition   0.588235\n",
       "Kd           0.529412\n",
       "Activity     0.514706\n",
       "EC50         0.294118\n",
       "Ratio        0.279412\n",
       "Ratio IC50   0.264706\n",
       "Km           0.250000\n",
       "Selectivity  0.191176"
      ]
     },
     "execution_count": 11,
     "metadata": {},
     "output_type": "execute_result"
    }
   ],
   "source": [
    "frequency_bioact.sort_values(by='%', ascending=False, inplace=True)\n",
    "frequency_bioact.head(10)"
   ]
  },
  {
   "cell_type": "code",
   "execution_count": 12,
   "metadata": {},
   "outputs": [
    {
     "data": {
      "text/plain": [
       "[<matplotlib.lines.Line2D at 0x7f1d43dce278>]"
      ]
     },
     "execution_count": 12,
     "metadata": {},
     "output_type": "execute_result"
    },
    {
     "data": {
      "image/png": "[encoded data removed]",
      "text/plain": [
       "<matplotlib.figure.Figure at 0x7f1d441ce2e8>"
      ]
     },
     "metadata": {},
     "output_type": "display_data"
    }
   ],
   "source": [
    "plt.figure(figsize=((10, 5)))\n",
    "plt.plot(frequency_bioact['%'].values)"
   ]
  },
  {
   "cell_type": "markdown",
   "metadata": {},
   "source": [
    "<h3>Frequency of units</h3>"
   ]
  },
  {
   "cell_type": "code",
   "execution_count": 13,
   "metadata": {
    "collapsed": true
   },
   "outputs": [],
   "source": [
    "all_units = chembl.find_all_units(uniprot_ids, directory)\n",
    "frequency_units = {}\n",
    "for unit in all_units:\n",
    "    frequency_units[unit] = 0\n",
    "\n",
    "for uniprot_id in uniprot_ids:\n",
    "    f = os.path.join(directory, 'uniprot', 'chembl_%s.csv' % uniprot_id)\n",
    "    data = pd.read_csv(f)\n",
    "    for unit in all_units:\n",
    "        frequency_units[unit] += (data['units'] == unit).any()\n",
    "        \n",
    "for unit in all_units:\n",
    "    frequency_units[unit] /= len(uniprot_ids)\n",
    "\n",
    "frequency_units = pd.DataFrame(frequency_units, index=['%']).T"
   ]
  },
  {
   "cell_type": "code",
   "execution_count": 14,
   "metadata": {},
   "outputs": [
    {
     "data": {
      "text/html": [
       "<div>\n",
       "<style>\n",
       "    .dataframe thead tr:only-child th {\n",
       "        text-align: right;\n",
       "    }\n",
       "\n",
       "    .dataframe thead th {\n",
       "        text-align: left;\n",
       "    }\n",
       "\n",
       "    .dataframe tbody tr th {\n",
       "        vertical-align: top;\n",
       "    }\n",
       "</style>\n",
       "<table border=\"1\" class=\"dataframe\">\n",
       "  <thead>\n",
       "    <tr style=\"text-align: right;\">\n",
       "      <th></th>\n",
       "      <th>%</th>\n",
       "    </tr>\n",
       "  </thead>\n",
       "  <tbody>\n",
       "    <tr>\n",
       "      <th>nM</th>\n",
       "      <td>0.750000</td>\n",
       "    </tr>\n",
       "    <tr>\n",
       "      <th>%</th>\n",
       "      <td>0.602941</td>\n",
       "    </tr>\n",
       "    <tr>\n",
       "      <th>Unspecified</th>\n",
       "      <td>0.455882</td>\n",
       "    </tr>\n",
       "    <tr>\n",
       "      <th>uM</th>\n",
       "      <td>0.411765</td>\n",
       "    </tr>\n",
       "    <tr>\n",
       "      <th>ug.mL-1</th>\n",
       "      <td>0.161765</td>\n",
       "    </tr>\n",
       "    <tr>\n",
       "      <th>degrees C</th>\n",
       "      <td>0.117647</td>\n",
       "    </tr>\n",
       "    <tr>\n",
       "      <th>s-1</th>\n",
       "      <td>0.117647</td>\n",
       "    </tr>\n",
       "    <tr>\n",
       "      <th>/M/s</th>\n",
       "      <td>0.073529</td>\n",
       "    </tr>\n",
       "    <tr>\n",
       "      <th>/s</th>\n",
       "      <td>0.073529</td>\n",
       "    </tr>\n",
       "    <tr>\n",
       "      <th>M-1 s-1</th>\n",
       "      <td>0.073529</td>\n",
       "    </tr>\n",
       "  </tbody>\n",
       "</table>\n",
       "</div>"
      ],
      "text/plain": [
       "                    %\n",
       "nM           0.750000\n",
       "%            0.602941\n",
       "Unspecified  0.455882\n",
       "uM           0.411765\n",
       "ug.mL-1      0.161765\n",
       "degrees C    0.117647\n",
       "s-1          0.117647\n",
       "/M/s         0.073529\n",
       "/s           0.073529\n",
       "M-1 s-1      0.073529"
      ]
     },
     "execution_count": 14,
     "metadata": {},
     "output_type": "execute_result"
    }
   ],
   "source": [
    "frequency_units.sort_values(by='%', ascending=False, inplace=True)\n",
    "frequency_units.head(10)"
   ]
  },
  {
   "cell_type": "code",
   "execution_count": 15,
   "metadata": {},
   "outputs": [
    {
     "data": {
      "text/plain": [
       "[<matplotlib.lines.Line2D at 0x7f1d4049f978>]"
      ]
     },
     "execution_count": 15,
     "metadata": {},
     "output_type": "execute_result"
    },
    {
     "data": {
      "image/png": "[encoded data removed]",
      "text/plain": [
       "<matplotlib.figure.Figure at 0x7f1d43dd5208>"
      ]
     },
     "metadata": {},
     "output_type": "display_data"
    }
   ],
   "source": [
    "plt.figure(figsize=((10, 5)))\n",
    "plt.plot(frequency_units['%'].values)"
   ]
  },
  {
   "cell_type": "markdown",
   "metadata": {},
   "source": [
    "<h2>Data blopking</h2>"
   ]
  },
  {
   "cell_type": "code",
   "execution_count": 16,
   "metadata": {},
   "outputs": [
    {
     "data": {
      "text/html": [
       "<div>\n",
       "<style>\n",
       "    .dataframe thead tr:only-child th {\n",
       "        text-align: right;\n",
       "    }\n",
       "\n",
       "    .dataframe thead th {\n",
       "        text-align: left;\n",
       "    }\n",
       "\n",
       "    .dataframe tbody tr th {\n",
       "        vertical-align: top;\n",
       "    }\n",
       "</style>\n",
       "<table border=\"1\" class=\"dataframe\">\n",
       "  <thead>\n",
       "    <tr style=\"text-align: right;\">\n",
       "      <th></th>\n",
       "      <th>%</th>\n",
       "    </tr>\n",
       "  </thead>\n",
       "  <tbody>\n",
       "    <tr>\n",
       "      <th>IC50</th>\n",
       "      <td>0.705882</td>\n",
       "    </tr>\n",
       "    <tr>\n",
       "      <th>Ki</th>\n",
       "      <td>0.588235</td>\n",
       "    </tr>\n",
       "    <tr>\n",
       "      <th>Inhibition</th>\n",
       "      <td>0.588235</td>\n",
       "    </tr>\n",
       "    <tr>\n",
       "      <th>Kd</th>\n",
       "      <td>0.529412</td>\n",
       "    </tr>\n",
       "    <tr>\n",
       "      <th>Activity</th>\n",
       "      <td>0.514706</td>\n",
       "    </tr>\n",
       "    <tr>\n",
       "      <th>EC50</th>\n",
       "      <td>0.294118</td>\n",
       "    </tr>\n",
       "    <tr>\n",
       "      <th>Ratio</th>\n",
       "      <td>0.279412</td>\n",
       "    </tr>\n",
       "    <tr>\n",
       "      <th>Ratio IC50</th>\n",
       "      <td>0.264706</td>\n",
       "    </tr>\n",
       "    <tr>\n",
       "      <th>Km</th>\n",
       "      <td>0.250000</td>\n",
       "    </tr>\n",
       "    <tr>\n",
       "      <th>Selectivity</th>\n",
       "      <td>0.191176</td>\n",
       "    </tr>\n",
       "    <tr>\n",
       "      <th>Ka</th>\n",
       "      <td>0.176471</td>\n",
       "    </tr>\n",
       "  </tbody>\n",
       "</table>\n",
       "</div>"
      ],
      "text/plain": [
       "                    %\n",
       "IC50         0.705882\n",
       "Ki           0.588235\n",
       "Inhibition   0.588235\n",
       "Kd           0.529412\n",
       "Activity     0.514706\n",
       "EC50         0.294118\n",
       "Ratio        0.279412\n",
       "Ratio IC50   0.264706\n",
       "Km           0.250000\n",
       "Selectivity  0.191176\n",
       "Ka           0.176471"
      ]
     },
     "execution_count": 16,
     "metadata": {},
     "output_type": "execute_result"
    }
   ],
   "source": [
    "frequency_bioact[frequency_bioact['%'] > 0.15]"
   ]
  },
  {
   "cell_type": "code",
   "execution_count": 17,
   "metadata": {
    "collapsed": true
   },
   "outputs": [],
   "source": [
    "bioactives = ['IC50', 'Ki', 'Inhibition', 'Kd', 'Activity', 'EC50', 'Km', 'Ka']\n",
    "# No: Ratio, Ratio IC50, Selectivity\n",
    "# Yes: INH?\n",
    "units = ['nM', '%']"
   ]
  },
  {
   "cell_type": "code",
   "execution_count": 18,
   "metadata": {
    "collapsed": true
   },
   "outputs": [],
   "source": [
    "for uniprot_id in uniprot_ids:\n",
    "    \n",
    "    f = os.path.join(directory, 'uniprot', 'chembl_%s.csv' % uniprot_id)\n",
    "    data = pd.read_csv(f)\n",
    "\n",
    "    data = data.loc[data['smiles'] != 'Unspecified'] # drop Unspecified smiles\n",
    "    \n",
    "    data = data[data['bioactivity_type'].isin(bioactives)] # only chosen bioactivity types\n",
    "        \n",
    "    data = chembl.convert_units(data) # convert units\n",
    "\n",
    "    data = data.loc[data['value'] >= 0 | (data['units'] != '%')]  # drop % < 0\n",
    "\n",
    "    data = data[data['units'].isin(units)] # only chosen units\n",
    "\n",
    "\n",
    "    # BLOP\n",
    "    idx = data.index[((data['units'] == 'nM') & \n",
    "            (data['bioactivity_type'] == 'Activity')) | ((data['bioactivity_type'] == 'EC50') & \n",
    "                                                            (data['units'] == '%'))]\n",
    "    data.drop(idx, inplace=True)\n",
    "        \n",
    "    data.drop_duplicates(inplace=True)\n",
    "\n",
    "    data.to_csv(f, index=False)\n"
   ]
  },
  {
   "cell_type": "code",
   "execution_count": 19,
   "metadata": {
    "collapsed": true
   },
   "outputs": [],
   "source": [
    "def table_type_unit(uniprot_id, directory, all_act_type, all_units):\n",
    "\n",
    "    f = os.path.join(directory, 'uniprot', 'chembl_%s.csv' % uniprot_id)\n",
    "    if os.path.isfile(f):\n",
    "        data = pd.read_csv(f)\n",
    "        count = {}\n",
    "        for act_type in all_act_type:\n",
    "            count[act_type] = []\n",
    "            query = data[data['bioactivity_type'] == act_type]\n",
    "            for unit in all_units:\n",
    "                count[act_type].append(sum(query['units'] == unit))\n",
    "\n",
    "        return pd.DataFrame(count, index=all_units)\n",
    "    "
   ]
  },
  {
   "cell_type": "code",
   "execution_count": 20,
   "metadata": {},
   "outputs": [
    {
     "data": {
      "text/html": [
       "<div>\n",
       "<style>\n",
       "    .dataframe thead tr:only-child th {\n",
       "        text-align: right;\n",
       "    }\n",
       "\n",
       "    .dataframe thead th {\n",
       "        text-align: left;\n",
       "    }\n",
       "\n",
       "    .dataframe tbody tr th {\n",
       "        vertical-align: top;\n",
       "    }\n",
       "</style>\n",
       "<table border=\"1\" class=\"dataframe\">\n",
       "  <thead>\n",
       "    <tr style=\"text-align: right;\">\n",
       "      <th></th>\n",
       "      <th>Activity</th>\n",
       "      <th>EC50</th>\n",
       "      <th>IC50</th>\n",
       "      <th>Inhibition</th>\n",
       "      <th>Ka</th>\n",
       "      <th>Kd</th>\n",
       "      <th>Ki</th>\n",
       "      <th>Km</th>\n",
       "    </tr>\n",
       "  </thead>\n",
       "  <tbody>\n",
       "    <tr>\n",
       "      <th>nM</th>\n",
       "      <td>0</td>\n",
       "      <td>5567</td>\n",
       "      <td>54320</td>\n",
       "      <td>0</td>\n",
       "      <td>63</td>\n",
       "      <td>2571</td>\n",
       "      <td>29072</td>\n",
       "      <td>134</td>\n",
       "    </tr>\n",
       "    <tr>\n",
       "      <th>%</th>\n",
       "      <td>3457</td>\n",
       "      <td>0</td>\n",
       "      <td>0</td>\n",
       "      <td>19758</td>\n",
       "      <td>0</td>\n",
       "      <td>0</td>\n",
       "      <td>0</td>\n",
       "      <td>0</td>\n",
       "    </tr>\n",
       "  </tbody>\n",
       "</table>\n",
       "</div>"
      ],
      "text/plain": [
       "    Activity  EC50   IC50  Inhibition  Ka    Kd     Ki   Km\n",
       "nM         0  5567  54320           0  63  2571  29072  134\n",
       "%       3457     0      0       19758   0     0      0    0"
      ]
     },
     "execution_count": 20,
     "metadata": {},
     "output_type": "execute_result"
    }
   ],
   "source": [
    "type_unit = sum([table_type_unit(uniprot_id, directory, bioactives, units) for uniprot_id in uniprot_ids])\n",
    "type_unit"
   ]
  },
  {
   "cell_type": "code",
   "execution_count": 21,
   "metadata": {},
   "outputs": [
    {
     "data": {
      "text/html": [
       "<div>\n",
       "<style>\n",
       "    .dataframe thead tr:only-child th {\n",
       "        text-align: right;\n",
       "    }\n",
       "\n",
       "    .dataframe thead th {\n",
       "        text-align: left;\n",
       "    }\n",
       "\n",
       "    .dataframe tbody tr th {\n",
       "        vertical-align: top;\n",
       "    }\n",
       "</style>\n",
       "<table border=\"1\" class=\"dataframe\">\n",
       "  <thead>\n",
       "    <tr style=\"text-align: right;\">\n",
       "      <th></th>\n",
       "      <th>uniprot_id</th>\n",
       "      <th>chembl_id</th>\n",
       "      <th>smiles</th>\n",
       "      <th>bioactivity_type</th>\n",
       "      <th>operator</th>\n",
       "      <th>value</th>\n",
       "      <th>units</th>\n",
       "    </tr>\n",
       "  </thead>\n",
       "  <tbody>\n",
       "    <tr>\n",
       "      <th>0</th>\n",
       "      <td>A9JQL9</td>\n",
       "      <td>CHEMBL525377</td>\n",
       "      <td>Cc1ccc(cc1)c2ccc(CCCN(O)C(=O)CP(=O)(O)O)cc2</td>\n",
       "      <td>Ki</td>\n",
       "      <td>&gt;</td>\n",
       "      <td>7000.0</td>\n",
       "      <td>nM</td>\n",
       "    </tr>\n",
       "    <tr>\n",
       "      <th>1</th>\n",
       "      <td>A9JQL9</td>\n",
       "      <td>CHEMBL495807</td>\n",
       "      <td>CC(=O)NP(=O)(O)OCCCc1cccc(Oc2ccccc2)c1</td>\n",
       "      <td>IC50</td>\n",
       "      <td>=</td>\n",
       "      <td>8.0</td>\n",
       "      <td>nM</td>\n",
       "    </tr>\n",
       "    <tr>\n",
       "      <th>2</th>\n",
       "      <td>A9JQL9</td>\n",
       "      <td>CHEMBL497815</td>\n",
       "      <td>OP(=O)(O)CC(=O)NCCCc1ccc(cc1)c2ccccc2</td>\n",
       "      <td>Ki</td>\n",
       "      <td>=</td>\n",
       "      <td>810.0</td>\n",
       "      <td>nM</td>\n",
       "    </tr>\n",
       "    <tr>\n",
       "      <th>3</th>\n",
       "      <td>A9JQL9</td>\n",
       "      <td>CHEMBL561057</td>\n",
       "      <td>CC(=CCC\\C(=C\\CNCCNC1C2CC3CC(CC1C3)C2)\\C)C</td>\n",
       "      <td>IC50</td>\n",
       "      <td>=</td>\n",
       "      <td>100000.0</td>\n",
       "      <td>nM</td>\n",
       "    </tr>\n",
       "    <tr>\n",
       "      <th>4</th>\n",
       "      <td>A9JQL9</td>\n",
       "      <td>CHEMBL561057</td>\n",
       "      <td>CC(=CCC\\C(=C\\CNCCNC1C2CC3CC(CC1C3)C2)\\C)C</td>\n",
       "      <td>Ki</td>\n",
       "      <td>=</td>\n",
       "      <td>360.0</td>\n",
       "      <td>nM</td>\n",
       "    </tr>\n",
       "  </tbody>\n",
       "</table>\n",
       "</div>"
      ],
      "text/plain": [
       "  uniprot_id     chembl_id                                       smiles  \\\n",
       "0     A9JQL9  CHEMBL525377  Cc1ccc(cc1)c2ccc(CCCN(O)C(=O)CP(=O)(O)O)cc2   \n",
       "1     A9JQL9  CHEMBL495807       CC(=O)NP(=O)(O)OCCCc1cccc(Oc2ccccc2)c1   \n",
       "2     A9JQL9  CHEMBL497815        OP(=O)(O)CC(=O)NCCCc1ccc(cc1)c2ccccc2   \n",
       "3     A9JQL9  CHEMBL561057    CC(=CCC\\C(=C\\CNCCNC1C2CC3CC(CC1C3)C2)\\C)C   \n",
       "4     A9JQL9  CHEMBL561057    CC(=CCC\\C(=C\\CNCCNC1C2CC3CC(CC1C3)C2)\\C)C   \n",
       "\n",
       "  bioactivity_type operator     value units  \n",
       "0               Ki        >    7000.0    nM  \n",
       "1             IC50        =       8.0    nM  \n",
       "2               Ki        =     810.0    nM  \n",
       "3             IC50        =  100000.0    nM  \n",
       "4               Ki        =     360.0    nM  "
      ]
     },
     "execution_count": 21,
     "metadata": {},
     "output_type": "execute_result"
    }
   ],
   "source": [
    "pd.read_csv('./all/uniprot/chembl_A9JQL9.csv').head()"
   ]
  },
  {
   "cell_type": "markdown",
   "metadata": {},
   "source": [
    "<h3>Create cluster files</h3>"
   ]
  },
  {
   "cell_type": "code",
   "execution_count": 22,
   "metadata": {
    "collapsed": true
   },
   "outputs": [],
   "source": [
    "for cluster in set(data_pdb['cluster_id'].tolist()):\n",
    "    idx = data_pdb.index[data_pdb['cluster_id'] == cluster]\n",
    "\n",
    "    cluster_data = []\n",
    "    for uniprot_id in set(data_pdb['uniprot_id'][idx]):\n",
    "        f = os.path.join('./all/uniprot/', 'chembl_%s.csv' % uniprot_id)\n",
    "        if os.path.isfile(f):\n",
    "            cluster_data.append(pd.read_csv(f))\n",
    "    if cluster_data:\n",
    "        cluster_data = pd.concat(cluster_data)\n",
    "        cluster_data.to_csv('./all/cluster/chembl_%s.csv' % cluster, index=False)\n"
   ]
  }
 ],
 "metadata": {
  "kernelspec": {
   "display_name": "Python 3",
   "language": "python",
   "name": "python3"
  },
  "language_info": {
   "codemirror_mode": {
    "name": "ipython",
    "version": 3
   },
   "file_extension": ".py",
   "mimetype": "text/x-python",
   "name": "python",
   "nbconvert_exporter": "python",
   "pygments_lexer": "ipython3",
   "version": "3.6.1"
  }
 },
 "nbformat": 4,
 "nbformat_minor": 2
}
