{
 "cells": [
  {
   "cell_type": "markdown",
   "metadata": {},
   "source": [
    "<h1>ChEMBL</h1>"
   ]
  },
  {
   "cell_type": "markdown",
   "metadata": {},
   "source": [
    "In this notebook we took structures from PDBbind core-set to find Uniprot IDs for their corresponding protein. Next we downloaded data from [ChEMBL](https://www.ebi.ac.uk/chembl/) about ligands interacting with our found proteins. Finally we cleaned and filtered data and saved them as csv files."
   ]
  },
  {
   "cell_type": "code",
   "execution_count": 1,
   "metadata": {},
   "outputs": [],
   "source": [
    "import os\n",
    "import seaborn\n",
    "import requests\n",
    "import numpy as np\n",
    "import pandas as pd\n",
    "from matplotlib import pyplot as plt\n",
    "from contextlib import redirect_stderr\n",
    "    \n",
    "%matplotlib inline\n",
    "\n",
    "import ChEMBL as chembl"
   ]
  },
  {
   "cell_type": "markdown",
   "metadata": {},
   "source": [
    "<h2>Loading pdbbind core-set information</h2>"
   ]
  },
  {
   "cell_type": "markdown",
   "metadata": {},
   "source": [
    "<h4>Cluster id</h4>"
   ]
  },
  {
   "cell_type": "code",
   "execution_count": 2,
   "metadata": {},
   "outputs": [
    {
     "data": {
      "text/html": [
       "<div>\n",
       "<style>\n",
       "    .dataframe thead tr:only-child th {\n",
       "        text-align: right;\n",
       "    }\n",
       "\n",
       "    .dataframe thead th {\n",
       "        text-align: left;\n",
       "    }\n",
       "\n",
       "    .dataframe tbody tr th {\n",
       "        vertical-align: top;\n",
       "    }\n",
       "</style>\n",
       "<table border=\"1\" class=\"dataframe\">\n",
       "  <thead>\n",
       "    <tr style=\"text-align: right;\">\n",
       "      <th></th>\n",
       "      <th>pdb_id</th>\n",
       "      <th>cluster_id</th>\n",
       "    </tr>\n",
       "  </thead>\n",
       "  <tbody>\n",
       "    <tr>\n",
       "      <th>0</th>\n",
       "      <td>1ps3</td>\n",
       "      <td>3</td>\n",
       "    </tr>\n",
       "    <tr>\n",
       "      <th>1</th>\n",
       "      <td>3dx1</td>\n",
       "      <td>3</td>\n",
       "    </tr>\n",
       "    <tr>\n",
       "      <th>2</th>\n",
       "      <td>3d4z</td>\n",
       "      <td>3</td>\n",
       "    </tr>\n",
       "    <tr>\n",
       "      <th>3</th>\n",
       "      <td>3dx2</td>\n",
       "      <td>3</td>\n",
       "    </tr>\n",
       "    <tr>\n",
       "      <th>4</th>\n",
       "      <td>3ejr</td>\n",
       "      <td>3</td>\n",
       "    </tr>\n",
       "  </tbody>\n",
       "</table>\n",
       "</div>"
      ],
      "text/plain": [
       "  pdb_id  cluster_id\n",
       "0   1ps3           3\n",
       "1   3dx1           3\n",
       "2   3d4z           3\n",
       "3   3dx2           3\n",
       "4   3ejr           3"
      ]
     },
     "execution_count": 2,
     "metadata": {},
     "output_type": "execute_result"
    }
   ],
   "source": [
    "f = './refined-set/index/INDEX_core_cluster.2016'\n",
    "clusters = pd.read_csv(f, sep='\\s+', usecols=[0, 5], \n",
    "                       names=['pdb_id', 'cluster_id'], comment='#')\n",
    "clusters.head()"
   ]
  },
  {
   "cell_type": "markdown",
   "metadata": {},
   "source": [
    "<h4>Uniprot id</h4>"
   ]
  },
  {
   "cell_type": "code",
   "execution_count": 3,
   "metadata": {},
   "outputs": [
    {
     "data": {
      "text/html": [
       "<div>\n",
       "<style>\n",
       "    .dataframe thead tr:only-child th {\n",
       "        text-align: right;\n",
       "    }\n",
       "\n",
       "    .dataframe thead th {\n",
       "        text-align: left;\n",
       "    }\n",
       "\n",
       "    .dataframe tbody tr th {\n",
       "        vertical-align: top;\n",
       "    }\n",
       "</style>\n",
       "<table border=\"1\" class=\"dataframe\">\n",
       "  <thead>\n",
       "    <tr style=\"text-align: right;\">\n",
       "      <th></th>\n",
       "      <th>pdb_id</th>\n",
       "      <th>uniprot_id</th>\n",
       "    </tr>\n",
       "  </thead>\n",
       "  <tbody>\n",
       "    <tr>\n",
       "      <th>0</th>\n",
       "      <td>3eql</td>\n",
       "      <td>Q9Z9H6</td>\n",
       "    </tr>\n",
       "    <tr>\n",
       "      <th>1</th>\n",
       "      <td>1zyr</td>\n",
       "      <td>Q5SHR6</td>\n",
       "    </tr>\n",
       "    <tr>\n",
       "      <th>2</th>\n",
       "      <td>3dxj</td>\n",
       "      <td>Q5SHR6</td>\n",
       "    </tr>\n",
       "    <tr>\n",
       "      <th>3</th>\n",
       "      <td>4zh4</td>\n",
       "      <td>P0A7Z4</td>\n",
       "    </tr>\n",
       "    <tr>\n",
       "      <th>4</th>\n",
       "      <td>4zh3</td>\n",
       "      <td>P0A7Z4</td>\n",
       "    </tr>\n",
       "  </tbody>\n",
       "</table>\n",
       "</div>"
      ],
      "text/plain": [
       "  pdb_id uniprot_id\n",
       "0   3eql     Q9Z9H6\n",
       "1   1zyr     Q5SHR6\n",
       "2   3dxj     Q5SHR6\n",
       "3   4zh4     P0A7Z4\n",
       "4   4zh3     P0A7Z4"
      ]
     },
     "execution_count": 3,
     "metadata": {},
     "output_type": "execute_result"
    }
   ],
   "source": [
    "f = './refined-set/index/INDEX_general_PL_name.2016'\n",
    "uniprot = pd.read_csv(f, sep='\\s+', usecols=[0, 2], \n",
    "                      names=['pdb_id', 'uniprot_id'], comment='#')\n",
    "uniprot.head()"
   ]
  },
  {
   "cell_type": "markdown",
   "metadata": {},
   "source": [
    "<h4>Merge</h4>"
   ]
  },
  {
   "cell_type": "code",
   "execution_count": 4,
   "metadata": {},
   "outputs": [
    {
     "data": {
      "text/html": [
       "<div>\n",
       "<style>\n",
       "    .dataframe thead tr:only-child th {\n",
       "        text-align: right;\n",
       "    }\n",
       "\n",
       "    .dataframe thead th {\n",
       "        text-align: left;\n",
       "    }\n",
       "\n",
       "    .dataframe tbody tr th {\n",
       "        vertical-align: top;\n",
       "    }\n",
       "</style>\n",
       "<table border=\"1\" class=\"dataframe\">\n",
       "  <thead>\n",
       "    <tr style=\"text-align: right;\">\n",
       "      <th></th>\n",
       "      <th>pdb_id</th>\n",
       "      <th>cluster_id</th>\n",
       "      <th>uniprot_id</th>\n",
       "    </tr>\n",
       "  </thead>\n",
       "  <tbody>\n",
       "    <tr>\n",
       "      <th>0</th>\n",
       "      <td>1ps3</td>\n",
       "      <td>3</td>\n",
       "      <td>Q24451</td>\n",
       "    </tr>\n",
       "    <tr>\n",
       "      <th>1</th>\n",
       "      <td>3dx1</td>\n",
       "      <td>3</td>\n",
       "      <td>Q24451</td>\n",
       "    </tr>\n",
       "    <tr>\n",
       "      <th>2</th>\n",
       "      <td>3d4z</td>\n",
       "      <td>3</td>\n",
       "      <td>Q24451</td>\n",
       "    </tr>\n",
       "    <tr>\n",
       "      <th>3</th>\n",
       "      <td>3dx2</td>\n",
       "      <td>3</td>\n",
       "      <td>Q24451</td>\n",
       "    </tr>\n",
       "    <tr>\n",
       "      <th>4</th>\n",
       "      <td>3ejr</td>\n",
       "      <td>3</td>\n",
       "      <td>Q24451</td>\n",
       "    </tr>\n",
       "  </tbody>\n",
       "</table>\n",
       "</div>"
      ],
      "text/plain": [
       "  pdb_id  cluster_id uniprot_id\n",
       "0   1ps3           3     Q24451\n",
       "1   3dx1           3     Q24451\n",
       "2   3d4z           3     Q24451\n",
       "3   3dx2           3     Q24451\n",
       "4   3ejr           3     Q24451"
      ]
     },
     "execution_count": 4,
     "metadata": {},
     "output_type": "execute_result"
    }
   ],
   "source": [
    "data_pdb = clusters.merge(uniprot, on='pdb_id')\n",
    "data_pdb.head()"
   ]
  },
  {
   "cell_type": "markdown",
   "metadata": {},
   "source": [
    "<h3>Number of targets in clusters</h3>"
   ]
  },
  {
   "cell_type": "markdown",
   "metadata": {},
   "source": [
    "Let's check how many unique Uniprot IDs are included in each cluster."
   ]
  },
  {
   "cell_type": "code",
   "execution_count": 5,
   "metadata": {},
   "outputs": [
    {
     "data": {
      "image/png": "[encoded data removed]",
      "text/plain": [
       "<matplotlib.figure.Figure at 0x7f0f3fad6978>"
      ]
     },
     "metadata": {},
     "output_type": "display_data"
    }
   ],
   "source": [
    "num_uni = []\n",
    "for cluster_id in set(data_pdb['cluster_id'].tolist()):\n",
    "    num_uni.append(len(set(data_pdb[data_pdb['cluster_id'] == cluster_id]['uniprot_id'])))\n",
    "pd.DataFrame({'num_of_uniprot_id': num_uni}).hist(figsize=(10, 5))\n",
    "plt.xlabel('Number of Uniprot ID in cluster', fontsize=15)\n",
    "plt.ylabel('Number of clusters', fontsize=15)\n",
    "plt.title('');"
   ]
  },
  {
   "cell_type": "markdown",
   "metadata": {},
   "source": [
    "<h2>Prepare data</h2>"
   ]
  },
  {
   "cell_type": "markdown",
   "metadata": {},
   "source": [
    "<h4>For every Uniprot ID create a dataframe containing bioactivitiy information</h4>"
   ]
  },
  {
   "cell_type": "code",
   "execution_count": 6,
   "metadata": {
    "collapsed": true
   },
   "outputs": [],
   "source": [
    "# path to store the results\n",
    "directory = './all/'"
   ]
  },
  {
   "cell_type": "code",
   "execution_count": 7,
   "metadata": {
    "collapsed": true
   },
   "outputs": [],
   "source": [
    "uniprot_ids = set(data_pdb['uniprot_id'].tolist())"
   ]
  },
  {
   "cell_type": "code",
   "execution_count": 8,
   "metadata": {
    "scrolled": true
   },
   "outputs": [],
   "source": [
    "# redirect stderr to file\n",
    "with open('stderr.log', 'w') as stderr, redirect_stderr(stderr):\n",
    "    # create and save dataframes for each UniProt ID\n",
    "    chembl.create_data_frames(set(data_pdb['uniprot_id'].tolist()), directory=directory, overwrite=True) "
   ]
  },
  {
   "cell_type": "markdown",
   "metadata": {},
   "source": [
    "Example file:"
   ]
  },
  {
   "cell_type": "code",
   "execution_count": 9,
   "metadata": {},
   "outputs": [
    {
     "data": {
      "text/html": [
       "<div>\n",
       "<style>\n",
       "    .dataframe thead tr:only-child th {\n",
       "        text-align: right;\n",
       "    }\n",
       "\n",
       "    .dataframe thead th {\n",
       "        text-align: left;\n",
       "    }\n",
       "\n",
       "    .dataframe tbody tr th {\n",
       "        vertical-align: top;\n",
       "    }\n",
       "</style>\n",
       "<table border=\"1\" class=\"dataframe\">\n",
       "  <thead>\n",
       "    <tr style=\"text-align: right;\">\n",
       "      <th></th>\n",
       "      <th>uniprot_id</th>\n",
       "      <th>chembl_id</th>\n",
       "      <th>smiles</th>\n",
       "      <th>bioactivity_type</th>\n",
       "      <th>operator</th>\n",
       "      <th>value</th>\n",
       "      <th>units</th>\n",
       "    </tr>\n",
       "  </thead>\n",
       "  <tbody>\n",
       "    <tr>\n",
       "      <th>0</th>\n",
       "      <td>A9JQL9</td>\n",
       "      <td>CHEMBL525377</td>\n",
       "      <td>Cc1ccc(cc1)c2ccc(CCCN(O)C(=O)CP(=O)(O)O)cc2</td>\n",
       "      <td>Ki</td>\n",
       "      <td>&gt;</td>\n",
       "      <td>7000.0</td>\n",
       "      <td>nM</td>\n",
       "    </tr>\n",
       "    <tr>\n",
       "      <th>1</th>\n",
       "      <td>A9JQL9</td>\n",
       "      <td>CHEMBL495807</td>\n",
       "      <td>CC(=O)NP(=O)(O)OCCCc1cccc(Oc2ccccc2)c1</td>\n",
       "      <td>IC50</td>\n",
       "      <td>=</td>\n",
       "      <td>8.0</td>\n",
       "      <td>nM</td>\n",
       "    </tr>\n",
       "    <tr>\n",
       "      <th>2</th>\n",
       "      <td>A9JQL9</td>\n",
       "      <td>CHEMBL497815</td>\n",
       "      <td>OP(=O)(O)CC(=O)NCCCc1ccc(cc1)c2ccccc2</td>\n",
       "      <td>Ki</td>\n",
       "      <td>=</td>\n",
       "      <td>810.0</td>\n",
       "      <td>nM</td>\n",
       "    </tr>\n",
       "    <tr>\n",
       "      <th>3</th>\n",
       "      <td>A9JQL9</td>\n",
       "      <td>CHEMBL561057</td>\n",
       "      <td>CC(=CCC\\C(=C\\CNCCNC1C2CC3CC(CC1C3)C2)\\C)C</td>\n",
       "      <td>IC50</td>\n",
       "      <td>=</td>\n",
       "      <td>100000.0</td>\n",
       "      <td>nM</td>\n",
       "    </tr>\n",
       "    <tr>\n",
       "      <th>4</th>\n",
       "      <td>A9JQL9</td>\n",
       "      <td>CHEMBL561057</td>\n",
       "      <td>CC(=CCC\\C(=C\\CNCCNC1C2CC3CC(CC1C3)C2)\\C)C</td>\n",
       "      <td>Ki</td>\n",
       "      <td>=</td>\n",
       "      <td>360.0</td>\n",
       "      <td>nM</td>\n",
       "    </tr>\n",
       "  </tbody>\n",
       "</table>\n",
       "</div>"
      ],
      "text/plain": [
       "  uniprot_id     chembl_id                                       smiles  \\\n",
       "0     A9JQL9  CHEMBL525377  Cc1ccc(cc1)c2ccc(CCCN(O)C(=O)CP(=O)(O)O)cc2   \n",
       "1     A9JQL9  CHEMBL495807       CC(=O)NP(=O)(O)OCCCc1cccc(Oc2ccccc2)c1   \n",
       "2     A9JQL9  CHEMBL497815        OP(=O)(O)CC(=O)NCCCc1ccc(cc1)c2ccccc2   \n",
       "3     A9JQL9  CHEMBL561057    CC(=CCC\\C(=C\\CNCCNC1C2CC3CC(CC1C3)C2)\\C)C   \n",
       "4     A9JQL9  CHEMBL561057    CC(=CCC\\C(=C\\CNCCNC1C2CC3CC(CC1C3)C2)\\C)C   \n",
       "\n",
       "  bioactivity_type operator     value units  \n",
       "0               Ki        >    7000.0    nM  \n",
       "1             IC50        =       8.0    nM  \n",
       "2               Ki        =     810.0    nM  \n",
       "3             IC50        =  100000.0    nM  \n",
       "4               Ki        =     360.0    nM  "
      ]
     },
     "execution_count": 9,
     "metadata": {},
     "output_type": "execute_result"
    }
   ],
   "source": [
    "pd.read_csv('./all/uniprot/chembl_A9JQL9.csv').head()"
   ]
  },
  {
   "cell_type": "markdown",
   "metadata": {},
   "source": [
    "## Analysis\n",
    "### Frequency of bioactivity types"
   ]
  },
  {
   "cell_type": "markdown",
   "metadata": {},
   "source": [
    "Percentage of targets containing a given bioactivity type."
   ]
  },
  {
   "cell_type": "code",
   "execution_count": 10,
   "metadata": {
    "collapsed": true
   },
   "outputs": [],
   "source": [
    "all_bioact = chembl.find_all_type_of_bioact(uniprot_ids, directory)\n",
    "frequency_bioact = {}\n",
    "for bioact in all_bioact:\n",
    "    frequency_bioact[bioact] = 0\n",
    "\n",
    "for uniprot_id in uniprot_ids:\n",
    "    \n",
    "    f = os.path.join(directory, 'uniprot', 'chembl_%s.csv' % uniprot_id)\n",
    "    data = pd.read_csv(f)\n",
    "    for bioact in all_bioact:\n",
    "        \n",
    "        frequency_bioact[bioact] += (data['bioactivity_type'] == bioact).any()\n",
    "        \n",
    "for bioact in all_bioact:\n",
    "    frequency_bioact[bioact] *= 100\n",
    "    frequency_bioact[bioact] //= len(uniprot_ids)\n",
    "\n",
    "frequency_bioact = pd.DataFrame(frequency_bioact, index=['%']).T"
   ]
  },
  {
   "cell_type": "code",
   "execution_count": 11,
   "metadata": {},
   "outputs": [
    {
     "data": {
      "text/html": [
       "<div>\n",
       "<style>\n",
       "    .dataframe thead tr:only-child th {\n",
       "        text-align: right;\n",
       "    }\n",
       "\n",
       "    .dataframe thead th {\n",
       "        text-align: left;\n",
       "    }\n",
       "\n",
       "    .dataframe tbody tr th {\n",
       "        vertical-align: top;\n",
       "    }\n",
       "</style>\n",
       "<table border=\"1\" class=\"dataframe\">\n",
       "  <thead>\n",
       "    <tr style=\"text-align: right;\">\n",
       "      <th></th>\n",
       "      <th>%</th>\n",
       "    </tr>\n",
       "  </thead>\n",
       "  <tbody>\n",
       "    <tr>\n",
       "      <th>IC50</th>\n",
       "      <td>70</td>\n",
       "    </tr>\n",
       "    <tr>\n",
       "      <th>Ki</th>\n",
       "      <td>58</td>\n",
       "    </tr>\n",
       "    <tr>\n",
       "      <th>Inhibition</th>\n",
       "      <td>58</td>\n",
       "    </tr>\n",
       "    <tr>\n",
       "      <th>Kd</th>\n",
       "      <td>52</td>\n",
       "    </tr>\n",
       "    <tr>\n",
       "      <th>Activity</th>\n",
       "      <td>51</td>\n",
       "    </tr>\n",
       "    <tr>\n",
       "      <th>EC50</th>\n",
       "      <td>29</td>\n",
       "    </tr>\n",
       "    <tr>\n",
       "      <th>Ratio</th>\n",
       "      <td>27</td>\n",
       "    </tr>\n",
       "    <tr>\n",
       "      <th>Ratio IC50</th>\n",
       "      <td>26</td>\n",
       "    </tr>\n",
       "    <tr>\n",
       "      <th>Km</th>\n",
       "      <td>25</td>\n",
       "    </tr>\n",
       "    <tr>\n",
       "      <th>Selectivity</th>\n",
       "      <td>19</td>\n",
       "    </tr>\n",
       "  </tbody>\n",
       "</table>\n",
       "</div>"
      ],
      "text/plain": [
       "              %\n",
       "IC50         70\n",
       "Ki           58\n",
       "Inhibition   58\n",
       "Kd           52\n",
       "Activity     51\n",
       "EC50         29\n",
       "Ratio        27\n",
       "Ratio IC50   26\n",
       "Km           25\n",
       "Selectivity  19"
      ]
     },
     "execution_count": 11,
     "metadata": {},
     "output_type": "execute_result"
    }
   ],
   "source": [
    "frequency_bioact.sort_values(by='%', ascending=False, inplace=True)\n",
    "frequency_bioact.head(10)"
   ]
  },
  {
   "cell_type": "code",
   "execution_count": 12,
   "metadata": {},
   "outputs": [
    {
     "data": {
      "image/png": "[encoded data removed]",
      "text/plain": [
       "<matplotlib.figure.Figure at 0x7f0f3baaef28>"
      ]
     },
     "metadata": {},
     "output_type": "display_data"
    }
   ],
   "source": [
    "plt.figure(figsize=((10, 5)))\n",
    "plt.xlabel('Bioact type', fontsize=20)\n",
    "plt.ylabel('Frequency', fontsize=20)\n",
    "plt.plot(frequency_bioact['%'].values);"
   ]
  },
  {
   "cell_type": "markdown",
   "metadata": {},
   "source": [
    "<h3>Frequency of units</h3>"
   ]
  },
  {
   "cell_type": "markdown",
   "metadata": {},
   "source": [
    "Percentage of targets containing a given unit."
   ]
  },
  {
   "cell_type": "code",
   "execution_count": 13,
   "metadata": {},
   "outputs": [],
   "source": [
    "all_units = chembl.find_all_units(uniprot_ids, directory)\n",
    "frequency_units = {}\n",
    "for unit in all_units:\n",
    "    frequency_units[unit] = 0\n",
    "\n",
    "for uniprot_id in uniprot_ids:\n",
    "    f = os.path.join(directory, 'uniprot', 'chembl_%s.csv' % uniprot_id)\n",
    "    data = pd.read_csv(f)\n",
    "    for unit in all_units:\n",
    "        frequency_units[unit] += (data['units'] == unit).any()\n",
    "        \n",
    "for unit in all_units:\n",
    "    frequency_units[unit] *= 100\n",
    "    frequency_units[unit] //= len(uniprot_ids)\n",
    "\n",
    "frequency_units = pd.DataFrame(frequency_units, index=['%']).T"
   ]
  },
  {
   "cell_type": "code",
   "execution_count": 14,
   "metadata": {},
   "outputs": [
    {
     "data": {
      "text/html": [
       "<div>\n",
       "<style>\n",
       "    .dataframe thead tr:only-child th {\n",
       "        text-align: right;\n",
       "    }\n",
       "\n",
       "    .dataframe thead th {\n",
       "        text-align: left;\n",
       "    }\n",
       "\n",
       "    .dataframe tbody tr th {\n",
       "        vertical-align: top;\n",
       "    }\n",
       "</style>\n",
       "<table border=\"1\" class=\"dataframe\">\n",
       "  <thead>\n",
       "    <tr style=\"text-align: right;\">\n",
       "      <th></th>\n",
       "      <th>%</th>\n",
       "    </tr>\n",
       "  </thead>\n",
       "  <tbody>\n",
       "    <tr>\n",
       "      <th>nM</th>\n",
       "      <td>75</td>\n",
       "    </tr>\n",
       "    <tr>\n",
       "      <th>%</th>\n",
       "      <td>60</td>\n",
       "    </tr>\n",
       "    <tr>\n",
       "      <th>Unspecified</th>\n",
       "      <td>45</td>\n",
       "    </tr>\n",
       "    <tr>\n",
       "      <th>uM</th>\n",
       "      <td>41</td>\n",
       "    </tr>\n",
       "    <tr>\n",
       "      <th>ug.mL-1</th>\n",
       "      <td>16</td>\n",
       "    </tr>\n",
       "    <tr>\n",
       "      <th>degrees C</th>\n",
       "      <td>11</td>\n",
       "    </tr>\n",
       "    <tr>\n",
       "      <th>s-1</th>\n",
       "      <td>11</td>\n",
       "    </tr>\n",
       "    <tr>\n",
       "      <th>/M/s</th>\n",
       "      <td>7</td>\n",
       "    </tr>\n",
       "    <tr>\n",
       "      <th>/s</th>\n",
       "      <td>7</td>\n",
       "    </tr>\n",
       "    <tr>\n",
       "      <th>M-1 s-1</th>\n",
       "      <td>7</td>\n",
       "    </tr>\n",
       "  </tbody>\n",
       "</table>\n",
       "</div>"
      ],
      "text/plain": [
       "              %\n",
       "nM           75\n",
       "%            60\n",
       "Unspecified  45\n",
       "uM           41\n",
       "ug.mL-1      16\n",
       "degrees C    11\n",
       "s-1          11\n",
       "/M/s          7\n",
       "/s            7\n",
       "M-1 s-1       7"
      ]
     },
     "execution_count": 14,
     "metadata": {},
     "output_type": "execute_result"
    }
   ],
   "source": [
    "frequency_units.sort_values(by='%', ascending=False, inplace=True)\n",
    "frequency_units.head(10)"
   ]
  },
  {
   "cell_type": "code",
   "execution_count": 15,
   "metadata": {},
   "outputs": [
    {
     "data": {
      "image/png": "[encoded data removed]",
      "text/plain": [
       "<matplotlib.figure.Figure at 0x7f0f3fecd828>"
      ]
     },
     "metadata": {},
     "output_type": "display_data"
    }
   ],
   "source": [
    "plt.figure(figsize=((10, 5)))\n",
    "plt.xlabel('Units', fontsize=20)\n",
    "plt.ylabel('Frequency', fontsize=20)\n",
    "plt.plot(frequency_units['%'].values);"
   ]
  },
  {
   "cell_type": "markdown",
   "metadata": {},
   "source": [
    "## Data cleaning and filtering"
   ]
  },
  {
   "cell_type": "code",
   "execution_count": 16,
   "metadata": {},
   "outputs": [
    {
     "data": {
      "text/html": [
       "<div>\n",
       "<style>\n",
       "    .dataframe thead tr:only-child th {\n",
       "        text-align: right;\n",
       "    }\n",
       "\n",
       "    .dataframe thead th {\n",
       "        text-align: left;\n",
       "    }\n",
       "\n",
       "    .dataframe tbody tr th {\n",
       "        vertical-align: top;\n",
       "    }\n",
       "</style>\n",
       "<table border=\"1\" class=\"dataframe\">\n",
       "  <thead>\n",
       "    <tr style=\"text-align: right;\">\n",
       "      <th></th>\n",
       "      <th>%</th>\n",
       "    </tr>\n",
       "  </thead>\n",
       "  <tbody>\n",
       "    <tr>\n",
       "      <th>IC50</th>\n",
       "      <td>70</td>\n",
       "    </tr>\n",
       "    <tr>\n",
       "      <th>Ki</th>\n",
       "      <td>58</td>\n",
       "    </tr>\n",
       "    <tr>\n",
       "      <th>Inhibition</th>\n",
       "      <td>58</td>\n",
       "    </tr>\n",
       "    <tr>\n",
       "      <th>Kd</th>\n",
       "      <td>52</td>\n",
       "    </tr>\n",
       "    <tr>\n",
       "      <th>Activity</th>\n",
       "      <td>51</td>\n",
       "    </tr>\n",
       "    <tr>\n",
       "      <th>EC50</th>\n",
       "      <td>29</td>\n",
       "    </tr>\n",
       "    <tr>\n",
       "      <th>Ratio</th>\n",
       "      <td>27</td>\n",
       "    </tr>\n",
       "    <tr>\n",
       "      <th>Ratio IC50</th>\n",
       "      <td>26</td>\n",
       "    </tr>\n",
       "    <tr>\n",
       "      <th>Km</th>\n",
       "      <td>25</td>\n",
       "    </tr>\n",
       "    <tr>\n",
       "      <th>Selectivity</th>\n",
       "      <td>19</td>\n",
       "    </tr>\n",
       "    <tr>\n",
       "      <th>Ka</th>\n",
       "      <td>17</td>\n",
       "    </tr>\n",
       "  </tbody>\n",
       "</table>\n",
       "</div>"
      ],
      "text/plain": [
       "              %\n",
       "IC50         70\n",
       "Ki           58\n",
       "Inhibition   58\n",
       "Kd           52\n",
       "Activity     51\n",
       "EC50         29\n",
       "Ratio        27\n",
       "Ratio IC50   26\n",
       "Km           25\n",
       "Selectivity  19\n",
       "Ka           17"
      ]
     },
     "execution_count": 16,
     "metadata": {},
     "output_type": "execute_result"
    }
   ],
   "source": [
    "frequency_bioact[frequency_bioact['%'] > 15]"
   ]
  },
  {
   "cell_type": "markdown",
   "metadata": {},
   "source": [
    "Get the most frequent types excluding Ratio, Ratio IC50 and Selectivity due to their unspecified units."
   ]
  },
  {
   "cell_type": "code",
   "execution_count": 17,
   "metadata": {
    "collapsed": true
   },
   "outputs": [],
   "source": [
    "bioactives = ['IC50', 'Ki', 'Inhibition', 'Kd', 'Activity', 'EC50', 'Km', 'Ka']\n",
    "# No: Ratio, Ratio IC50, Selectivity\n",
    "units = ['nM', '%']"
   ]
  },
  {
   "cell_type": "code",
   "execution_count": 18,
   "metadata": {
    "collapsed": true
   },
   "outputs": [],
   "source": [
    "for uniprot_id in uniprot_ids:\n",
    "    \n",
    "    f = os.path.join(directory, 'uniprot', 'chembl_%s.csv' % uniprot_id)\n",
    "    data = pd.read_csv(f)\n",
    "\n",
    "    data = data.loc[data['smiles'] != 'Unspecified'] # drop Unspecified smiles\n",
    "    \n",
    "    data = data[data['bioactivity_type'].isin(bioactives)] # only chosen bioactivity types\n",
    "        \n",
    "    data = chembl.convert_units(data) # convert units\n",
    "\n",
    "    data = data.loc[data['value'] >= 0 | (data['units'] != '%')]  # drop % < 0\n",
    "\n",
    "    data = data[data['units'].isin(units)] # only chosen units\n",
    "\n",
    "\n",
    "    # remove EC50 values with % as units\n",
    "    idx = data.index[((data['units'] == 'nM') & (data['bioactivity_type'] == 'Activity')) | \n",
    "                     ((data['bioactivity_type'] == 'EC50') & (data['units'] == '%'))]\n",
    "    data.drop(idx, inplace=True)\n",
    "        \n",
    "    data.drop_duplicates(inplace=True)\n",
    "\n",
    "    f = os.path.join(directory, 'uniprot_cleaned', 'chembl_%s_cleaned.csv' % uniprot_id)\n",
    "    data.to_csv(f, index=False)"
   ]
  },
  {
   "cell_type": "code",
   "execution_count": 19,
   "metadata": {
    "collapsed": true
   },
   "outputs": [],
   "source": [
    "def table_type_unit(uniprot_id, directory, all_act_type, all_units):\n",
    "    \"\"\"Counting occurances of bioactivity types and units.\n",
    "    \n",
    "    Parameters\n",
    "    ----------\n",
    "    uniprot_id : str\n",
    "        Uniprot ID.\n",
    "        \n",
    "    directory : str\n",
    "        Path to target csv.\n",
    "        \n",
    "    all_act_type: list of str\n",
    "        List of bioactivity types which interest us.\n",
    "        \n",
    "    all_units: list of str\n",
    "        List of units which interest us.\n",
    "        \n",
    "    Returns\n",
    "    -------\n",
    "    DataFrame with all_act_type as columns and all_units as indices.\n",
    "    Values are numbers of occurrences of bioactivity-unit pairs.\n",
    "    \"\"\"\n",
    "\n",
    "    f = os.path.join(directory, 'uniprot_cleaned', 'chembl_%s_cleaned.csv' % uniprot_id)\n",
    "    if os.path.isfile(f):\n",
    "        data = pd.read_csv(f)\n",
    "        count = {}\n",
    "        for act_type in all_act_type:\n",
    "            count[act_type] = []\n",
    "            query = data[data['bioactivity_type'] == act_type]\n",
    "            for unit in all_units:\n",
    "                count[act_type].append(sum(query['units'] == unit))\n",
    "\n",
    "        return pd.DataFrame(count, index=all_units)\n",
    "    "
   ]
  },
  {
   "cell_type": "code",
   "execution_count": 20,
   "metadata": {},
   "outputs": [
    {
     "data": {
      "text/html": [
       "<div>\n",
       "<style>\n",
       "    .dataframe thead tr:only-child th {\n",
       "        text-align: right;\n",
       "    }\n",
       "\n",
       "    .dataframe thead th {\n",
       "        text-align: left;\n",
       "    }\n",
       "\n",
       "    .dataframe tbody tr th {\n",
       "        vertical-align: top;\n",
       "    }\n",
       "</style>\n",
       "<table border=\"1\" class=\"dataframe\">\n",
       "  <thead>\n",
       "    <tr style=\"text-align: right;\">\n",
       "      <th></th>\n",
       "      <th>Activity</th>\n",
       "      <th>EC50</th>\n",
       "      <th>IC50</th>\n",
       "      <th>Inhibition</th>\n",
       "      <th>Ka</th>\n",
       "      <th>Kd</th>\n",
       "      <th>Ki</th>\n",
       "      <th>Km</th>\n",
       "    </tr>\n",
       "  </thead>\n",
       "  <tbody>\n",
       "    <tr>\n",
       "      <th>nM</th>\n",
       "      <td>0</td>\n",
       "      <td>5567</td>\n",
       "      <td>54320</td>\n",
       "      <td>0</td>\n",
       "      <td>63</td>\n",
       "      <td>2571</td>\n",
       "      <td>29072</td>\n",
       "      <td>134</td>\n",
       "    </tr>\n",
       "    <tr>\n",
       "      <th>%</th>\n",
       "      <td>3457</td>\n",
       "      <td>0</td>\n",
       "      <td>0</td>\n",
       "      <td>19758</td>\n",
       "      <td>0</td>\n",
       "      <td>0</td>\n",
       "      <td>0</td>\n",
       "      <td>0</td>\n",
       "    </tr>\n",
       "  </tbody>\n",
       "</table>\n",
       "</div>"
      ],
      "text/plain": [
       "    Activity  EC50   IC50  Inhibition  Ka    Kd     Ki   Km\n",
       "nM         0  5567  54320           0  63  2571  29072  134\n",
       "%       3457     0      0       19758   0     0      0    0"
      ]
     },
     "execution_count": 20,
     "metadata": {},
     "output_type": "execute_result"
    }
   ],
   "source": [
    "type_unit = sum([table_type_unit(uniprot_id, directory, bioactives, units) for uniprot_id in uniprot_ids])\n",
    "type_unit"
   ]
  },
  {
   "cell_type": "markdown",
   "metadata": {},
   "source": [
    "<h3>Create cluster files</h3>"
   ]
  },
  {
   "cell_type": "code",
   "execution_count": 21,
   "metadata": {
    "collapsed": true
   },
   "outputs": [],
   "source": [
    "for cluster in set(data_pdb['cluster_id'].tolist()):\n",
    "    idx = data_pdb.index[data_pdb['cluster_id'] == cluster]\n",
    "\n",
    "    cluster_data = []\n",
    "    for uniprot_id in set(data_pdb['uniprot_id'][idx]):\n",
    "        f = os.path.join(directory, 'uniprot_cleaned', 'chembl_%s_cleaned.csv' % uniprot_id)\n",
    "        cluster_data.append(pd.read_csv(f))\n",
    "    \n",
    "    cluster_data = pd.concat(cluster_data)\n",
    "    f = os.path.join(directory, 'cluster', 'cluster_%s.csv' % cluster)\n",
    "    cluster_data.to_csv(f, index=False)\n"
   ]
  },
  {
   "cell_type": "code",
   "execution_count": 22,
   "metadata": {},
   "outputs": [
    {
     "data": {
      "text/html": [
       "<div>\n",
       "<style>\n",
       "    .dataframe thead tr:only-child th {\n",
       "        text-align: right;\n",
       "    }\n",
       "\n",
       "    .dataframe thead th {\n",
       "        text-align: left;\n",
       "    }\n",
       "\n",
       "    .dataframe tbody tr th {\n",
       "        vertical-align: top;\n",
       "    }\n",
       "</style>\n",
       "<table border=\"1\" class=\"dataframe\">\n",
       "  <thead>\n",
       "    <tr style=\"text-align: right;\">\n",
       "      <th></th>\n",
       "      <th>uniprot_id</th>\n",
       "      <th>chembl_id</th>\n",
       "      <th>smiles</th>\n",
       "      <th>bioactivity_type</th>\n",
       "      <th>operator</th>\n",
       "      <th>value</th>\n",
       "      <th>units</th>\n",
       "    </tr>\n",
       "  </thead>\n",
       "  <tbody>\n",
       "    <tr>\n",
       "      <th>0</th>\n",
       "      <td>P61823</td>\n",
       "      <td>CHEMBL595547</td>\n",
       "      <td>Nc1ncnc2c1ncn2[C@@H]3O[C@@H]([C@@H](O)[C@H]3O)...</td>\n",
       "      <td>Ki</td>\n",
       "      <td>=</td>\n",
       "      <td>67000.00</td>\n",
       "      <td>nM</td>\n",
       "    </tr>\n",
       "    <tr>\n",
       "      <th>1</th>\n",
       "      <td>P61823</td>\n",
       "      <td>CHEMBL595547</td>\n",
       "      <td>Nc1ncnc2c1ncn2[C@@H]3O[C@@H]([C@@H](O)[C@H]3O)...</td>\n",
       "      <td>Inhibition</td>\n",
       "      <td>=</td>\n",
       "      <td>32.25</td>\n",
       "      <td>%</td>\n",
       "    </tr>\n",
       "    <tr>\n",
       "      <th>2</th>\n",
       "      <td>P61823</td>\n",
       "      <td>CHEMBL460901</td>\n",
       "      <td>OC[C@H]1O[C@H]([C@@H](O)[C@@H]1OP(=O)(O)O)N2C=...</td>\n",
       "      <td>Ki</td>\n",
       "      <td>=</td>\n",
       "      <td>6000.00</td>\n",
       "      <td>nM</td>\n",
       "    </tr>\n",
       "    <tr>\n",
       "      <th>3</th>\n",
       "      <td>P61823</td>\n",
       "      <td>CHEMBL195416</td>\n",
       "      <td>Oc1ccc(\\C=C/2\\C(=O)Oc3cc(O)ccc23)cc1</td>\n",
       "      <td>IC50</td>\n",
       "      <td>&gt;</td>\n",
       "      <td>400000.00</td>\n",
       "      <td>nM</td>\n",
       "    </tr>\n",
       "    <tr>\n",
       "      <th>4</th>\n",
       "      <td>P61823</td>\n",
       "      <td>CHEMBL130266</td>\n",
       "      <td>O[C@H]1[C@@H](O)[C@@H](O[C@@H]1COP(=O)(O)OP(=O...</td>\n",
       "      <td>Ki</td>\n",
       "      <td>=</td>\n",
       "      <td>647000.00</td>\n",
       "      <td>nM</td>\n",
       "    </tr>\n",
       "  </tbody>\n",
       "</table>\n",
       "</div>"
      ],
      "text/plain": [
       "  uniprot_id     chembl_id                                             smiles  \\\n",
       "0     P61823  CHEMBL595547  Nc1ncnc2c1ncn2[C@@H]3O[C@@H]([C@@H](O)[C@H]3O)...   \n",
       "1     P61823  CHEMBL595547  Nc1ncnc2c1ncn2[C@@H]3O[C@@H]([C@@H](O)[C@H]3O)...   \n",
       "2     P61823  CHEMBL460901  OC[C@H]1O[C@H]([C@@H](O)[C@@H]1OP(=O)(O)O)N2C=...   \n",
       "3     P61823  CHEMBL195416               Oc1ccc(\\C=C/2\\C(=O)Oc3cc(O)ccc23)cc1   \n",
       "4     P61823  CHEMBL130266  O[C@H]1[C@@H](O)[C@@H](O[C@@H]1COP(=O)(O)OP(=O...   \n",
       "\n",
       "  bioactivity_type operator      value units  \n",
       "0               Ki        =   67000.00    nM  \n",
       "1       Inhibition        =      32.25     %  \n",
       "2               Ki        =    6000.00    nM  \n",
       "3             IC50        >  400000.00    nM  \n",
       "4               Ki        =  647000.00    nM  "
      ]
     },
     "execution_count": 22,
     "metadata": {},
     "output_type": "execute_result"
    }
   ],
   "source": [
    "pd.read_csv('./all/cluster/cluster_1095.csv').head()"
   ]
  }
 ],
 "metadata": {
  "kernelspec": {
   "display_name": "Python 3",
   "language": "python",
   "name": "python3"
  },
  "language_info": {
   "codemirror_mode": {
    "name": "ipython",
    "version": 3
   },
   "file_extension": ".py",
   "mimetype": "text/x-python",
   "name": "python",
   "nbconvert_exporter": "python",
   "pygments_lexer": "ipython3",
   "version": "3.6.1"
  }
 },
 "nbformat": 4,
 "nbformat_minor": 2
}
