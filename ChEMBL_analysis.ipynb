{
 "cells": [
  {
   "cell_type": "markdown",
   "metadata": {},
   "source": [
    "<h1>ChEMBL</h1>"
   ]
  },
  {
   "cell_type": "code",
   "execution_count": 1,
   "metadata": {
    "collapsed": true
   },
   "outputs": [],
   "source": [
    "import os\n",
    "import seaborn\n",
    "import requests\n",
    "import numpy as np\n",
    "import pandas as pd\n",
    "from matplotlib import pyplot as plt\n",
    "\n",
    "%matplotlib inline\n",
    "\n",
    "import ChEMBL as chembl"
   ]
  },
  {
   "cell_type": "markdown",
   "metadata": {},
   "source": [
    "<h2>Loading informations from pdbbind core-set</h2>"
   ]
  },
  {
   "cell_type": "markdown",
   "metadata": {},
   "source": [
    "<h3>cluster id</h3>"
   ]
  },
  {
   "cell_type": "code",
   "execution_count": 2,
   "metadata": {},
   "outputs": [
    {
     "data": {
      "text/html": [
       "<div>\n",
       "<style>\n",
       "    .dataframe thead tr:only-child th {\n",
       "        text-align: right;\n",
       "    }\n",
       "\n",
       "    .dataframe thead th {\n",
       "        text-align: left;\n",
       "    }\n",
       "\n",
       "    .dataframe tbody tr th {\n",
       "        vertical-align: top;\n",
       "    }\n",
       "</style>\n",
       "<table border=\"1\" class=\"dataframe\">\n",
       "  <thead>\n",
       "    <tr style=\"text-align: right;\">\n",
       "      <th></th>\n",
       "      <th>pdb_id</th>\n",
       "      <th>cluster_id</th>\n",
       "    </tr>\n",
       "  </thead>\n",
       "  <tbody>\n",
       "    <tr>\n",
       "      <th>0</th>\n",
       "      <td>1ps3</td>\n",
       "      <td>3</td>\n",
       "    </tr>\n",
       "    <tr>\n",
       "      <th>1</th>\n",
       "      <td>3dx1</td>\n",
       "      <td>3</td>\n",
       "    </tr>\n",
       "    <tr>\n",
       "      <th>2</th>\n",
       "      <td>3d4z</td>\n",
       "      <td>3</td>\n",
       "    </tr>\n",
       "    <tr>\n",
       "      <th>3</th>\n",
       "      <td>3dx2</td>\n",
       "      <td>3</td>\n",
       "    </tr>\n",
       "    <tr>\n",
       "      <th>4</th>\n",
       "      <td>3ejr</td>\n",
       "      <td>3</td>\n",
       "    </tr>\n",
       "  </tbody>\n",
       "</table>\n",
       "</div>"
      ],
      "text/plain": [
       "  pdb_id  cluster_id\n",
       "0   1ps3           3\n",
       "1   3dx1           3\n",
       "2   3d4z           3\n",
       "3   3dx2           3\n",
       "4   3ejr           3"
      ]
     },
     "execution_count": 2,
     "metadata": {},
     "output_type": "execute_result"
    }
   ],
   "source": [
    "f = './refined-set/index/INDEX_core_cluster.2016'\n",
    "clusters = pd.read_csv(f, sep='\\s+', usecols=[0, 5], \n",
    "                       names=['pdb_id', 'cluster_id'], comment='#')\n",
    "clusters.head()"
   ]
  },
  {
   "cell_type": "markdown",
   "metadata": {},
   "source": [
    "<h3>uniprot id</h3>"
   ]
  },
  {
   "cell_type": "code",
   "execution_count": 3,
   "metadata": {},
   "outputs": [
    {
     "data": {
      "text/html": [
       "<div>\n",
       "<style>\n",
       "    .dataframe thead tr:only-child th {\n",
       "        text-align: right;\n",
       "    }\n",
       "\n",
       "    .dataframe thead th {\n",
       "        text-align: left;\n",
       "    }\n",
       "\n",
       "    .dataframe tbody tr th {\n",
       "        vertical-align: top;\n",
       "    }\n",
       "</style>\n",
       "<table border=\"1\" class=\"dataframe\">\n",
       "  <thead>\n",
       "    <tr style=\"text-align: right;\">\n",
       "      <th></th>\n",
       "      <th>pdb_id</th>\n",
       "      <th>uniprot_id</th>\n",
       "    </tr>\n",
       "  </thead>\n",
       "  <tbody>\n",
       "    <tr>\n",
       "      <th>0</th>\n",
       "      <td>3eql</td>\n",
       "      <td>Q9Z9H6</td>\n",
       "    </tr>\n",
       "    <tr>\n",
       "      <th>1</th>\n",
       "      <td>1zyr</td>\n",
       "      <td>Q5SHR6</td>\n",
       "    </tr>\n",
       "    <tr>\n",
       "      <th>2</th>\n",
       "      <td>3dxj</td>\n",
       "      <td>Q5SHR6</td>\n",
       "    </tr>\n",
       "    <tr>\n",
       "      <th>3</th>\n",
       "      <td>4zh4</td>\n",
       "      <td>P0A7Z4</td>\n",
       "    </tr>\n",
       "    <tr>\n",
       "      <th>4</th>\n",
       "      <td>4zh3</td>\n",
       "      <td>P0A7Z4</td>\n",
       "    </tr>\n",
       "  </tbody>\n",
       "</table>\n",
       "</div>"
      ],
      "text/plain": [
       "  pdb_id uniprot_id\n",
       "0   3eql     Q9Z9H6\n",
       "1   1zyr     Q5SHR6\n",
       "2   3dxj     Q5SHR6\n",
       "3   4zh4     P0A7Z4\n",
       "4   4zh3     P0A7Z4"
      ]
     },
     "execution_count": 3,
     "metadata": {},
     "output_type": "execute_result"
    }
   ],
   "source": [
    "f = './refined-set/index/INDEX_general_PL_name.2016'\n",
    "uniprot = pd.read_csv(f, sep='\\s+', usecols=[0, 2], \n",
    "                      names=['pdb_id', 'uniprot_id'], comment='#')\n",
    "uniprot.head()"
   ]
  },
  {
   "cell_type": "code",
   "execution_count": 4,
   "metadata": {},
   "outputs": [
    {
     "data": {
      "text/html": [
       "<div>\n",
       "<style>\n",
       "    .dataframe thead tr:only-child th {\n",
       "        text-align: right;\n",
       "    }\n",
       "\n",
       "    .dataframe thead th {\n",
       "        text-align: left;\n",
       "    }\n",
       "\n",
       "    .dataframe tbody tr th {\n",
       "        vertical-align: top;\n",
       "    }\n",
       "</style>\n",
       "<table border=\"1\" class=\"dataframe\">\n",
       "  <thead>\n",
       "    <tr style=\"text-align: right;\">\n",
       "      <th></th>\n",
       "      <th>pdb_id</th>\n",
       "      <th>cluster_id</th>\n",
       "      <th>uniprot_id</th>\n",
       "    </tr>\n",
       "  </thead>\n",
       "  <tbody>\n",
       "    <tr>\n",
       "      <th>0</th>\n",
       "      <td>1ps3</td>\n",
       "      <td>3</td>\n",
       "      <td>Q24451</td>\n",
       "    </tr>\n",
       "    <tr>\n",
       "      <th>1</th>\n",
       "      <td>3dx1</td>\n",
       "      <td>3</td>\n",
       "      <td>Q24451</td>\n",
       "    </tr>\n",
       "    <tr>\n",
       "      <th>2</th>\n",
       "      <td>3d4z</td>\n",
       "      <td>3</td>\n",
       "      <td>Q24451</td>\n",
       "    </tr>\n",
       "    <tr>\n",
       "      <th>3</th>\n",
       "      <td>3dx2</td>\n",
       "      <td>3</td>\n",
       "      <td>Q24451</td>\n",
       "    </tr>\n",
       "    <tr>\n",
       "      <th>4</th>\n",
       "      <td>3ejr</td>\n",
       "      <td>3</td>\n",
       "      <td>Q24451</td>\n",
       "    </tr>\n",
       "  </tbody>\n",
       "</table>\n",
       "</div>"
      ],
      "text/plain": [
       "  pdb_id  cluster_id uniprot_id\n",
       "0   1ps3           3     Q24451\n",
       "1   3dx1           3     Q24451\n",
       "2   3d4z           3     Q24451\n",
       "3   3dx2           3     Q24451\n",
       "4   3ejr           3     Q24451"
      ]
     },
     "execution_count": 4,
     "metadata": {},
     "output_type": "execute_result"
    }
   ],
   "source": [
    "data_pdb = clusters.merge(uniprot, on='pdb_id')\n",
    "data_pdb.to_csv('pdbbind_data', index=False)\n",
    "data_pdb.head()"
   ]
  },
  {
   "cell_type": "markdown",
   "metadata": {},
   "source": [
    "<h2>Create data frames</h2>"
   ]
  },
  {
   "cell_type": "code",
   "execution_count": 5,
   "metadata": {
    "collapsed": true
   },
   "outputs": [],
   "source": [
    "directory = './all/'"
   ]
  },
  {
   "cell_type": "code",
   "execution_count": 6,
   "metadata": {
    "scrolled": true
   },
   "outputs": [
    {
     "name": "stderr",
     "output_type": "stream",
     "text": [
      "Error when retrieving url: https://www.ebi.ac.uk/chemblws/targets/uniprot/E8NLP5.json, status code: 404, msg: Target not found for accession:E8NLP5\n",
      "No chemblId for E8NLP5\n",
      "Error when retrieving url: https://www.ebi.ac.uk/chemblws/targets/uniprot/P0A5R0.json, status code: 404, msg: Target not found for accession:P0A5R0\n",
      "No chemblId for P0A5R0\n",
      "Error when retrieving url: https://www.ebi.ac.uk/chemblws/targets/uniprot/P66992.json, status code: 404, msg: Target not found for accession:P66992\n",
      "No chemblId for P66992\n",
      "Error when retrieving url: https://www.ebi.ac.uk/chemblws/targets/uniprot/Q9AMP1.json, status code: 404, msg: Target not found for accession:Q9AMP1\n",
      "No chemblId for Q9AMP1\n",
      "Error when retrieving url: https://www.ebi.ac.uk/chemblws/targets/uniprot/P24247.json, status code: 404, msg: Target not found for accession:P24247\n",
      "No chemblId for P24247\n",
      "Error when retrieving url: https://www.ebi.ac.uk/chemblws/targets/uniprot/Q08638.json, status code: 404, msg: Target not found for accession:Q08638\n",
      "No chemblId for Q08638\n",
      "Error when retrieving url: https://www.ebi.ac.uk/chemblws/targets/uniprot/P0A4Z6.json, status code: 404, msg: Target not found for accession:P0A4Z6\n",
      "No chemblId for P0A4Z6\n",
      "Error when retrieving url: https://www.ebi.ac.uk/chemblws/targets/uniprot/Q9L5C8.json, status code: 404, msg: Target not found for accession:Q9L5C8\n",
      "No chemblId for Q9L5C8\n",
      "Error when retrieving url: https://www.ebi.ac.uk/chemblws/targets/uniprot/Q90K99.json, status code: 404, msg: Target not found for accession:Q90K99\n",
      "No chemblId for Q90K99\n",
      "Error when retrieving url: https://www.ebi.ac.uk/chemblws/targets/uniprot/Q24451.json, status code: 404, msg: Target not found for accession:Q24451\n",
      "No chemblId for Q24451\n",
      "Error when retrieving url: https://www.ebi.ac.uk/chemblws/targets/uniprot/Q72498.json, status code: 404, msg: Target not found for accession:Q72498\n",
      "No chemblId for Q72498\n",
      "Error when retrieving url: https://www.ebi.ac.uk/chemblws/targets/uniprot/P04587.json, status code: 404, msg: Target not found for accession:P04587\n",
      "No chemblId for P04587\n",
      "Error when retrieving url: https://www.ebi.ac.uk/chemblws/targets/uniprot/Q89ZI2.json, status code: 404, msg: Target not found for accession:Q89ZI2\n",
      "No chemblId for Q89ZI2\n",
      "Error when retrieving url: https://www.ebi.ac.uk/chemblws/targets/uniprot/Q59FK4.json, status code: 404, msg: Target not found for accession:Q59FK4\n",
      "No chemblId for Q59FK4\n",
      "Error when retrieving url: https://www.ebi.ac.uk/chemblws/targets/uniprot/Q8A3I4.json, status code: 404, msg: Target not found for accession:Q8A3I4\n",
      "No chemblId for Q8A3I4\n",
      "Error when retrieving url: https://www.ebi.ac.uk/chemblws/targets/uniprot/O67854.json, status code: 404, msg: Target not found for accession:O67854\n",
      "No chemblId for O67854\n"
     ]
    }
   ],
   "source": [
    "chembl.create_data_frames(set(data_pdb['uniprot_id'].tolist()), directory=directory, overwrite=True) "
   ]
  },
  {
   "cell_type": "markdown",
   "metadata": {},
   "source": [
    "<h4>Find all good IDs (IDs which have corresponding csv file).</h4>"
   ]
  },
  {
   "cell_type": "code",
   "execution_count": 7,
   "metadata": {
    "collapsed": true
   },
   "outputs": [],
   "source": [
    "good_ids = []\n",
    "for uniprot_id in data_pdb['uniprot_id'].tolist():\n",
    "    f = os.path.join(directory, 'uniprot', 'chembl_%s.csv' % uniprot_id)\n",
    "    if os.path.isfile(f):\n",
    "        good_ids.append(uniprot_id)"
   ]
  },
  {
   "cell_type": "code",
   "execution_count": 8,
   "metadata": {
    "collapsed": true
   },
   "outputs": [],
   "source": [
    "idx = data_pdb['uniprot_id'] == good_ids[0]\n",
    "for good in good_ids[1:]:\n",
    "    idx = idx | (data_pdb['uniprot_id'] == good)\n",
    "\n",
    "good_pdb_ids = data_pdb['pdb_id'][idx].tolist()"
   ]
  },
  {
   "cell_type": "code",
   "execution_count": 9,
   "metadata": {
    "collapsed": true
   },
   "outputs": [],
   "source": [
    "clusters = {}\n",
    "\n",
    "for cluster_id in set(data_pdb['cluster_id'].tolist()):\n",
    "    \n",
    "    idx = data_pdb.index[data_pdb['cluster_id'] == cluster_id]\n",
    "    pdb = data_pdb['pdb_id'][idx]\n",
    "    uni = data_pdb['uniprot_id'][idx]\n",
    "    \n",
    "    clusters[cluster_id] = [len(set(pdb).intersection(set(good_pdb_ids))), len(pdb), len(set(uni))]\n",
    "\n",
    "clusters = pd.DataFrame(clusters).T\n",
    "clusters.columns = ['number_of_good_ids', 'number_of_ids', 'number_of_uniprot_ids']"
   ]
  },
  {
   "cell_type": "code",
   "execution_count": 10,
   "metadata": {
    "scrolled": false
   },
   "outputs": [
    {
     "data": {
      "text/plain": [
       "array([[<matplotlib.axes._subplots.AxesSubplot object at 0x7f67f8ffd780>,\n",
       "        <matplotlib.axes._subplots.AxesSubplot object at 0x7f67fcbff748>],\n",
       "       [<matplotlib.axes._subplots.AxesSubplot object at 0x7f67fc5f8898>,\n",
       "        <matplotlib.axes._subplots.AxesSubplot object at 0x7f67f900ed30>]], dtype=object)"
      ]
     },
     "execution_count": 10,
     "metadata": {},
     "output_type": "execute_result"
    },
    {
     "data": {
      "image/png": "[encoded data removed]",
      "text/plain": [
       "<matplotlib.figure.Figure at 0x7f67f906f630>"
      ]
     },
     "metadata": {},
     "output_type": "display_data"
    }
   ],
   "source": [
    "clusters.hist(figsize=(20,8), sharey=True, sharex=True)"
   ]
  },
  {
   "cell_type": "markdown",
   "metadata": {},
   "source": [
    "<h3>Frequency</h3>"
   ]
  },
  {
   "cell_type": "markdown",
   "metadata": {},
   "source": [
    "<h4>Frequency of bioactivity type</h4>"
   ]
  },
  {
   "cell_type": "code",
   "execution_count": 11,
   "metadata": {},
   "outputs": [],
   "source": [
    "all_bioact = chembl.find_all_bioact(good_ids, directory)\n",
    "frequency_bioact = {}\n",
    "for bioact in all_bioact:\n",
    "    frequency_bioact[bioact] = 0\n",
    "\n",
    "for uniprot_id in good_ids:\n",
    "    f = os.path.join(directory, 'uniprot', 'chembl_%s.csv' % uniprot_id)\n",
    "    data = pd.read_csv(f)\n",
    "    for bioact in all_bioact:\n",
    "\n",
    "        frequency_bioact[bioact] += (data['bioactivity_type'] == bioact).any()\n",
    "        \n",
    "for bioact in all_bioact:\n",
    "    frequency_bioact[bioact] /= len(good_ids)\n",
    "\n",
    "frequency_bioact = pd.DataFrame(frequency_bioact, index=['%']).T"
   ]
  },
  {
   "cell_type": "code",
   "execution_count": 12,
   "metadata": {},
   "outputs": [
    {
     "data": {
      "text/html": [
       "<div>\n",
       "<style>\n",
       "    .dataframe thead tr:only-child th {\n",
       "        text-align: right;\n",
       "    }\n",
       "\n",
       "    .dataframe thead th {\n",
       "        text-align: left;\n",
       "    }\n",
       "\n",
       "    .dataframe tbody tr th {\n",
       "        vertical-align: top;\n",
       "    }\n",
       "</style>\n",
       "<table border=\"1\" class=\"dataframe\">\n",
       "  <thead>\n",
       "    <tr style=\"text-align: right;\">\n",
       "      <th></th>\n",
       "      <th>%</th>\n",
       "    </tr>\n",
       "  </thead>\n",
       "  <tbody>\n",
       "    <tr>\n",
       "      <th>IC50</th>\n",
       "      <td>0.741379</td>\n",
       "    </tr>\n",
       "    <tr>\n",
       "      <th>Ki</th>\n",
       "      <td>0.644828</td>\n",
       "    </tr>\n",
       "    <tr>\n",
       "      <th>Inhibition</th>\n",
       "      <td>0.634483</td>\n",
       "    </tr>\n",
       "    <tr>\n",
       "      <th>Kd</th>\n",
       "      <td>0.606897</td>\n",
       "    </tr>\n",
       "    <tr>\n",
       "      <th>Activity</th>\n",
       "      <td>0.544828</td>\n",
       "    </tr>\n",
       "    <tr>\n",
       "      <th>EC50</th>\n",
       "      <td>0.313793</td>\n",
       "    </tr>\n",
       "    <tr>\n",
       "      <th>Ratio</th>\n",
       "      <td>0.306897</td>\n",
       "    </tr>\n",
       "    <tr>\n",
       "      <th>Ratio IC50</th>\n",
       "      <td>0.293103</td>\n",
       "    </tr>\n",
       "    <tr>\n",
       "      <th>Km</th>\n",
       "      <td>0.282759</td>\n",
       "    </tr>\n",
       "    <tr>\n",
       "      <th>Selectivity</th>\n",
       "      <td>0.213793</td>\n",
       "    </tr>\n",
       "  </tbody>\n",
       "</table>\n",
       "</div>"
      ],
      "text/plain": [
       "                    %\n",
       "IC50         0.741379\n",
       "Ki           0.644828\n",
       "Inhibition   0.634483\n",
       "Kd           0.606897\n",
       "Activity     0.544828\n",
       "EC50         0.313793\n",
       "Ratio        0.306897\n",
       "Ratio IC50   0.293103\n",
       "Km           0.282759\n",
       "Selectivity  0.213793"
      ]
     },
     "execution_count": 12,
     "metadata": {},
     "output_type": "execute_result"
    }
   ],
   "source": [
    "frequency_bioact.sort_values(by='%', ascending=False, inplace=True)\n",
    "frequency_bioact.head(10)"
   ]
  },
  {
   "cell_type": "code",
   "execution_count": 13,
   "metadata": {},
   "outputs": [
    {
     "data": {
      "text/plain": [
       "[<matplotlib.lines.Line2D at 0x7f67fad660b8>]"
      ]
     },
     "execution_count": 13,
     "metadata": {},
     "output_type": "execute_result"
    },
    {
     "data": {
      "image/png": "[encoded data removed]",
      "text/plain": [
       "<matplotlib.figure.Figure at 0x7f67f9066978>"
      ]
     },
     "metadata": {},
     "output_type": "display_data"
    }
   ],
   "source": [
    "plt.figure(figsize=((10, 5)))\n",
    "plt.plot(frequency_bioact['%'].values)"
   ]
  },
  {
   "cell_type": "markdown",
   "metadata": {},
   "source": [
    "<h4>Frequency of units</h4>"
   ]
  },
  {
   "cell_type": "code",
   "execution_count": 14,
   "metadata": {},
   "outputs": [],
   "source": [
    "all_units = chembl.find_all_units(good_ids, directory)\n",
    "frequency_units = {}\n",
    "for unit in all_units:\n",
    "    frequency_units[unit] = 0\n",
    "\n",
    "for uniprot_id in good_ids:\n",
    "    f = os.path.join(directory, 'uniprot', 'chembl_%s.csv' % uniprot_id)\n",
    "    data = pd.read_csv(f)\n",
    "    for unit in all_units:\n",
    "        frequency_units[unit] += (data['units'] == unit).any()\n",
    "        \n",
    "for unit in all_units:\n",
    "    frequency_units[unit] /= len(good_ids)\n",
    "\n",
    "frequency_units = pd.DataFrame(frequency_units, index=['%']).T"
   ]
  },
  {
   "cell_type": "code",
   "execution_count": 15,
   "metadata": {},
   "outputs": [
    {
     "data": {
      "text/html": [
       "<div>\n",
       "<style>\n",
       "    .dataframe thead tr:only-child th {\n",
       "        text-align: right;\n",
       "    }\n",
       "\n",
       "    .dataframe thead th {\n",
       "        text-align: left;\n",
       "    }\n",
       "\n",
       "    .dataframe tbody tr th {\n",
       "        vertical-align: top;\n",
       "    }\n",
       "</style>\n",
       "<table border=\"1\" class=\"dataframe\">\n",
       "  <thead>\n",
       "    <tr style=\"text-align: right;\">\n",
       "      <th></th>\n",
       "      <th>%</th>\n",
       "    </tr>\n",
       "  </thead>\n",
       "  <tbody>\n",
       "    <tr>\n",
       "      <th>nM</th>\n",
       "      <td>0.793103</td>\n",
       "    </tr>\n",
       "    <tr>\n",
       "      <th>%</th>\n",
       "      <td>0.651724</td>\n",
       "    </tr>\n",
       "    <tr>\n",
       "      <th>Unspecified</th>\n",
       "      <td>0.486207</td>\n",
       "    </tr>\n",
       "    <tr>\n",
       "      <th>uM</th>\n",
       "      <td>0.482759</td>\n",
       "    </tr>\n",
       "    <tr>\n",
       "      <th>ug.mL-1</th>\n",
       "      <td>0.175862</td>\n",
       "    </tr>\n",
       "    <tr>\n",
       "      <th>degrees C</th>\n",
       "      <td>0.137931</td>\n",
       "    </tr>\n",
       "    <tr>\n",
       "      <th>s-1</th>\n",
       "      <td>0.137931</td>\n",
       "    </tr>\n",
       "    <tr>\n",
       "      <th>/M/s</th>\n",
       "      <td>0.086207</td>\n",
       "    </tr>\n",
       "    <tr>\n",
       "      <th>l M-1</th>\n",
       "      <td>0.086207</td>\n",
       "    </tr>\n",
       "    <tr>\n",
       "      <th>/s</th>\n",
       "      <td>0.086207</td>\n",
       "    </tr>\n",
       "  </tbody>\n",
       "</table>\n",
       "</div>"
      ],
      "text/plain": [
       "                    %\n",
       "nM           0.793103\n",
       "%            0.651724\n",
       "Unspecified  0.486207\n",
       "uM           0.482759\n",
       "ug.mL-1      0.175862\n",
       "degrees C    0.137931\n",
       "s-1          0.137931\n",
       "/M/s         0.086207\n",
       "l M-1        0.086207\n",
       "/s           0.086207"
      ]
     },
     "execution_count": 15,
     "metadata": {},
     "output_type": "execute_result"
    }
   ],
   "source": [
    "frequency_units.sort_values(by='%', ascending=False, inplace=True)\n",
    "frequency_units.head(10)"
   ]
  },
  {
   "cell_type": "code",
   "execution_count": 16,
   "metadata": {},
   "outputs": [
    {
     "data": {
      "text/plain": [
       "[<matplotlib.lines.Line2D at 0x7f67fc85ad30>]"
      ]
     },
     "execution_count": 16,
     "metadata": {},
     "output_type": "execute_result"
    },
    {
     "data": {
      "image/png": "[encoded data removed]",
      "text/plain": [
       "<matplotlib.figure.Figure at 0x7f67fcadbe80>"
      ]
     },
     "metadata": {},
     "output_type": "display_data"
    }
   ],
   "source": [
    "plt.figure(figsize=((10, 5)))\n",
    "plt.plot(frequency_units['%'].values)"
   ]
  },
  {
   "cell_type": "markdown",
   "metadata": {},
   "source": [
    "<h2>Data blopking</h2>"
   ]
  },
  {
   "cell_type": "code",
   "execution_count": 17,
   "metadata": {
    "collapsed": true
   },
   "outputs": [],
   "source": [
    "bioactives = ['IC50', 'Ki', 'Inhibition', 'Kd', 'Activity', 'EC50', 'Km', 'Ka', 'INH']\n",
    "units = ['nM', '%']"
   ]
  },
  {
   "cell_type": "code",
   "execution_count": 18,
   "metadata": {},
   "outputs": [],
   "source": [
    "for uniprot_id in good_ids:\n",
    "    \n",
    "    f = os.path.join(directory, 'uniprot', 'chembl_%s.csv' % uniprot_id)\n",
    "    data = pd.read_csv(f)\n",
    "\n",
    "    data = data.loc[data['smiles'] != 'Unspecified'] # drop Unspecified smiles\n",
    "    \n",
    "    data = data[data['bioactivity_type'].isin(bioactives)] # only chosen bioactivity types\n",
    "        \n",
    "    data = chembl.convert_units(data) # convert units\n",
    "\n",
    "    data = data.loc[data['value'] >= 0 | (data['units'] != '%')]  # drop % < 0\n",
    "\n",
    "    data = data[data['units'].isin(units)] # only chosen units\n",
    "\n",
    "\n",
    "    # BLOP\n",
    "    idx = data.index[((data['units'] == 'nM') & \n",
    "            (data['bioactivity_type'] == 'Activity')) | ((data['bioactivity_type'] == 'EC50') & \n",
    "                                                            (data['units'] == '%'))]\n",
    "    data.drop(idx, inplace=True)\n",
    "        \n",
    "    data.drop_duplicates(inplace=True)\n",
    "\n",
    "    data.to_csv(f, index=False)\n"
   ]
  },
  {
   "cell_type": "code",
   "execution_count": 19,
   "metadata": {
    "collapsed": true
   },
   "outputs": [],
   "source": [
    "def table_type_unit(uniprot_id, directory, all_act_type, all_units):\n",
    "\n",
    "    f = os.path.join(directory, 'uniprot', 'chembl_%s.csv' % uniprot_id)\n",
    "    if os.path.isfile(f):\n",
    "        data = pd.read_csv(f)\n",
    "        count = {}\n",
    "        for act_type in all_act_type:\n",
    "            count[act_type] = []\n",
    "            query = data[data['bioactivity_type'] == act_type]\n",
    "            for unit in all_units:\n",
    "                count[act_type].append(sum(query['units'] == unit))\n",
    "\n",
    "        return pd.DataFrame(count, index=all_units)\n",
    "    "
   ]
  },
  {
   "cell_type": "code",
   "execution_count": 20,
   "metadata": {},
   "outputs": [
    {
     "data": {
      "text/html": [
       "<div>\n",
       "<style>\n",
       "    .dataframe thead tr:only-child th {\n",
       "        text-align: right;\n",
       "    }\n",
       "\n",
       "    .dataframe thead th {\n",
       "        text-align: left;\n",
       "    }\n",
       "\n",
       "    .dataframe tbody tr th {\n",
       "        vertical-align: top;\n",
       "    }\n",
       "</style>\n",
       "<table border=\"1\" class=\"dataframe\">\n",
       "  <thead>\n",
       "    <tr style=\"text-align: right;\">\n",
       "      <th></th>\n",
       "      <th>Activity</th>\n",
       "      <th>EC50</th>\n",
       "      <th>IC50</th>\n",
       "      <th>INH</th>\n",
       "      <th>Inhibition</th>\n",
       "      <th>Ka</th>\n",
       "      <th>Kd</th>\n",
       "      <th>Ki</th>\n",
       "      <th>Km</th>\n",
       "    </tr>\n",
       "  </thead>\n",
       "  <tbody>\n",
       "    <tr>\n",
       "      <th>nM</th>\n",
       "      <td>0</td>\n",
       "      <td>27177</td>\n",
       "      <td>270342</td>\n",
       "      <td>520</td>\n",
       "      <td>0</td>\n",
       "      <td>311</td>\n",
       "      <td>10663</td>\n",
       "      <td>141007</td>\n",
       "      <td>592</td>\n",
       "    </tr>\n",
       "    <tr>\n",
       "      <th>%</th>\n",
       "      <td>16288</td>\n",
       "      <td>0</td>\n",
       "      <td>0</td>\n",
       "      <td>0</td>\n",
       "      <td>82746</td>\n",
       "      <td>0</td>\n",
       "      <td>0</td>\n",
       "      <td>0</td>\n",
       "      <td>0</td>\n",
       "    </tr>\n",
       "  </tbody>\n",
       "</table>\n",
       "</div>"
      ],
      "text/plain": [
       "    Activity   EC50    IC50  INH  Inhibition   Ka     Kd      Ki   Km\n",
       "nM         0  27177  270342  520           0  311  10663  141007  592\n",
       "%      16288      0       0    0       82746    0      0       0    0"
      ]
     },
     "execution_count": 20,
     "metadata": {},
     "output_type": "execute_result"
    }
   ],
   "source": [
    "type_unit = sum([table_type_unit(uniprot_id, directory, bioactives, units) for uniprot_id in good_ids])\n",
    "type_unit"
   ]
  },
  {
   "cell_type": "code",
   "execution_count": 21,
   "metadata": {},
   "outputs": [
    {
     "data": {
      "text/html": [
       "<div>\n",
       "<style>\n",
       "    .dataframe thead tr:only-child th {\n",
       "        text-align: right;\n",
       "    }\n",
       "\n",
       "    .dataframe thead th {\n",
       "        text-align: left;\n",
       "    }\n",
       "\n",
       "    .dataframe tbody tr th {\n",
       "        vertical-align: top;\n",
       "    }\n",
       "</style>\n",
       "<table border=\"1\" class=\"dataframe\">\n",
       "  <thead>\n",
       "    <tr style=\"text-align: right;\">\n",
       "      <th></th>\n",
       "      <th>uniprot_id</th>\n",
       "      <th>chembl_id</th>\n",
       "      <th>smiles</th>\n",
       "      <th>bioactivity_type</th>\n",
       "      <th>operator</th>\n",
       "      <th>value</th>\n",
       "      <th>units</th>\n",
       "    </tr>\n",
       "  </thead>\n",
       "  <tbody>\n",
       "    <tr>\n",
       "      <th>0</th>\n",
       "      <td>A9JQL9</td>\n",
       "      <td>CHEMBL525377</td>\n",
       "      <td>Cc1ccc(cc1)c2ccc(CCCN(O)C(=O)CP(=O)(O)O)cc2</td>\n",
       "      <td>Ki</td>\n",
       "      <td>&gt;</td>\n",
       "      <td>7000.0</td>\n",
       "      <td>nM</td>\n",
       "    </tr>\n",
       "    <tr>\n",
       "      <th>1</th>\n",
       "      <td>A9JQL9</td>\n",
       "      <td>CHEMBL495807</td>\n",
       "      <td>CC(=O)NP(=O)(O)OCCCc1cccc(Oc2ccccc2)c1</td>\n",
       "      <td>IC50</td>\n",
       "      <td>=</td>\n",
       "      <td>8.0</td>\n",
       "      <td>nM</td>\n",
       "    </tr>\n",
       "    <tr>\n",
       "      <th>2</th>\n",
       "      <td>A9JQL9</td>\n",
       "      <td>CHEMBL497815</td>\n",
       "      <td>OP(=O)(O)CC(=O)NCCCc1ccc(cc1)c2ccccc2</td>\n",
       "      <td>Ki</td>\n",
       "      <td>=</td>\n",
       "      <td>810.0</td>\n",
       "      <td>nM</td>\n",
       "    </tr>\n",
       "    <tr>\n",
       "      <th>3</th>\n",
       "      <td>A9JQL9</td>\n",
       "      <td>CHEMBL561057</td>\n",
       "      <td>CC(=CCC\\C(=C\\CNCCNC1C2CC3CC(CC1C3)C2)\\C)C</td>\n",
       "      <td>IC50</td>\n",
       "      <td>=</td>\n",
       "      <td>100000.0</td>\n",
       "      <td>nM</td>\n",
       "    </tr>\n",
       "    <tr>\n",
       "      <th>4</th>\n",
       "      <td>A9JQL9</td>\n",
       "      <td>CHEMBL561057</td>\n",
       "      <td>CC(=CCC\\C(=C\\CNCCNC1C2CC3CC(CC1C3)C2)\\C)C</td>\n",
       "      <td>Ki</td>\n",
       "      <td>=</td>\n",
       "      <td>360.0</td>\n",
       "      <td>nM</td>\n",
       "    </tr>\n",
       "  </tbody>\n",
       "</table>\n",
       "</div>"
      ],
      "text/plain": [
       "  uniprot_id     chembl_id                                       smiles  \\\n",
       "0     A9JQL9  CHEMBL525377  Cc1ccc(cc1)c2ccc(CCCN(O)C(=O)CP(=O)(O)O)cc2   \n",
       "1     A9JQL9  CHEMBL495807       CC(=O)NP(=O)(O)OCCCc1cccc(Oc2ccccc2)c1   \n",
       "2     A9JQL9  CHEMBL497815        OP(=O)(O)CC(=O)NCCCc1ccc(cc1)c2ccccc2   \n",
       "3     A9JQL9  CHEMBL561057    CC(=CCC\\C(=C\\CNCCNC1C2CC3CC(CC1C3)C2)\\C)C   \n",
       "4     A9JQL9  CHEMBL561057    CC(=CCC\\C(=C\\CNCCNC1C2CC3CC(CC1C3)C2)\\C)C   \n",
       "\n",
       "  bioactivity_type operator     value units  \n",
       "0               Ki        >    7000.0    nM  \n",
       "1             IC50        =       8.0    nM  \n",
       "2               Ki        =     810.0    nM  \n",
       "3             IC50        =  100000.0    nM  \n",
       "4               Ki        =     360.0    nM  "
      ]
     },
     "execution_count": 21,
     "metadata": {},
     "output_type": "execute_result"
    }
   ],
   "source": [
    "pd.read_csv('/home/paulina/IBB/all/uniprot/chembl_A9JQL9.csv').head()"
   ]
  },
  {
   "cell_type": "markdown",
   "metadata": {},
   "source": [
    "<h3>Make clusters</h3>"
   ]
  },
  {
   "cell_type": "code",
   "execution_count": 22,
   "metadata": {
    "collapsed": true
   },
   "outputs": [],
   "source": [
    "for cluster in set(data_pdb['cluster_id'].tolist()):\n",
    "    idx = data_pdb.index[data_pdb['cluster_id'] == cluster]\n",
    "\n",
    "    cluster_data = []\n",
    "    for uniprot_id in set(data_pdb['uniprot_id'][idx]):\n",
    "        f = os.path.join('/home/paulina/IBB/all/uniprot/', 'chembl_%s.csv' % uniprot_id)\n",
    "        if os.path.isfile(f):\n",
    "            cluster_data.append(pd.read_csv(f))\n",
    "    if cluster_data:\n",
    "        cluster_data = pd.concat(cluster_data)\n",
    "        \n",
    "        cluster_data.drop_duplicates(inplace=True)\n",
    "        cluster_data.to_csv('/home/paulina/IBB/all/cluster/chembl_%s.csv' % cluster, index=False)\n"
   ]
  }
 ],
 "metadata": {
  "kernelspec": {
   "display_name": "Python 3",
   "language": "python",
   "name": "python3"
  },
  "language_info": {
   "codemirror_mode": {
    "name": "ipython",
    "version": 3
   },
   "file_extension": ".py",
   "mimetype": "text/x-python",
   "name": "python",
   "nbconvert_exporter": "python",
   "pygments_lexer": "ipython3",
   "version": "3.6.1"
  }
 },
 "nbformat": 4,
 "nbformat_minor": 2
}
